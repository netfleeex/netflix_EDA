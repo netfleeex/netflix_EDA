{
 "cells": [
  {
   "cell_type": "markdown",
   "id": "found-forest",
   "metadata": {},
   "source": [
    "# 의문점 : 넷플릭스는 왜 이렇게 옛날 거 밖에 없을까? 요즘 애들은 그런 걸 좋아하나?"
   ]
  },
  {
   "cell_type": "code",
   "execution_count": 95,
   "id": "968a2264",
   "metadata": {},
   "outputs": [
    {
     "name": "stdout",
     "output_type": "stream",
     "text": [
      "Requirement already satisfied: matplotlib in /Users/taekkim/opt/anaconda3/lib/python3.8/site-packages (3.4.3)\r\n",
      "Requirement already satisfied: numpy>=1.16 in /Users/taekkim/opt/anaconda3/lib/python3.8/site-packages (from matplotlib) (1.21.2)\r\n",
      "Requirement already satisfied: cycler>=0.10 in /Users/taekkim/opt/anaconda3/lib/python3.8/site-packages (from matplotlib) (0.10.0)\r\n",
      "Requirement already satisfied: pyparsing>=2.2.1 in /Users/taekkim/opt/anaconda3/lib/python3.8/site-packages (from matplotlib) (2.4.7)\r\n",
      "Requirement already satisfied: pillow>=6.2.0 in /Users/taekkim/opt/anaconda3/lib/python3.8/site-packages (from matplotlib) (8.3.1)\r\n",
      "Requirement already satisfied: kiwisolver>=1.0.1 in /Users/taekkim/opt/anaconda3/lib/python3.8/site-packages (from matplotlib) (1.3.2)\r\n",
      "Requirement already satisfied: python-dateutil>=2.7 in /Users/taekkim/opt/anaconda3/lib/python3.8/site-packages (from matplotlib) (2.8.2)\r\n",
      "Requirement already satisfied: six in /Users/taekkim/opt/anaconda3/lib/python3.8/site-packages (from cycler>=0.10->matplotlib) (1.16.0)\r\n",
      "\u001B[33mWARNING: You are using pip version 21.2.4; however, version 21.3 is available.\r\n",
      "You should consider upgrading via the '/Users/taekkim/opt/anaconda3/bin/python -m pip install --upgrade pip' command.\u001B[0m\r\n"
     ]
    }
   ],
   "source": [
    "!pip install matplotlib\n"
   ]
  },
  {
   "cell_type": "code",
   "execution_count": 96,
   "id": "4d6d13d6",
   "metadata": {},
   "outputs": [
    {
     "name": "stdout",
     "output_type": "stream",
     "text": [
      "Requirement already satisfied: pandas in /Users/taekkim/opt/anaconda3/lib/python3.8/site-packages (1.3.4)\r\n",
      "Requirement already satisfied: pytz>=2017.3 in /Users/taekkim/opt/anaconda3/lib/python3.8/site-packages (from pandas) (2021.1)\r\n",
      "Requirement already satisfied: numpy>=1.17.3 in /Users/taekkim/opt/anaconda3/lib/python3.8/site-packages (from pandas) (1.21.2)\r\n",
      "Requirement already satisfied: python-dateutil>=2.7.3 in /Users/taekkim/opt/anaconda3/lib/python3.8/site-packages (from pandas) (2.8.2)\r\n",
      "Requirement already satisfied: six>=1.5 in /Users/taekkim/opt/anaconda3/lib/python3.8/site-packages (from python-dateutil>=2.7.3->pandas) (1.16.0)\r\n",
      "\u001B[33mWARNING: You are using pip version 21.2.4; however, version 21.3 is available.\r\n",
      "You should consider upgrading via the '/Users/taekkim/opt/anaconda3/bin/python -m pip install --upgrade pip' command.\u001B[0m\r\n"
     ]
    }
   ],
   "source": [
    "!pip install pandas"
   ]
  },
  {
   "cell_type": "code",
   "execution_count": 97,
   "id": "24751887",
   "metadata": {},
   "outputs": [
    {
     "name": "stdout",
     "output_type": "stream",
     "text": [
      "Requirement already satisfied: seaborn in /Users/taekkim/opt/anaconda3/lib/python3.8/site-packages (0.11.2)\r\n",
      "Requirement already satisfied: numpy>=1.15 in /Users/taekkim/opt/anaconda3/lib/python3.8/site-packages (from seaborn) (1.21.2)\r\n",
      "Requirement already satisfied: matplotlib>=2.2 in /Users/taekkim/opt/anaconda3/lib/python3.8/site-packages (from seaborn) (3.4.3)\r\n",
      "Requirement already satisfied: scipy>=1.0 in /Users/taekkim/opt/anaconda3/lib/python3.8/site-packages (from seaborn) (1.7.1)\r\n",
      "Requirement already satisfied: pandas>=0.23 in /Users/taekkim/opt/anaconda3/lib/python3.8/site-packages (from seaborn) (1.3.4)\r\n",
      "Requirement already satisfied: cycler>=0.10 in /Users/taekkim/opt/anaconda3/lib/python3.8/site-packages (from matplotlib>=2.2->seaborn) (0.10.0)\r\n",
      "Requirement already satisfied: pyparsing>=2.2.1 in /Users/taekkim/opt/anaconda3/lib/python3.8/site-packages (from matplotlib>=2.2->seaborn) (2.4.7)\r\n",
      "Requirement already satisfied: kiwisolver>=1.0.1 in /Users/taekkim/opt/anaconda3/lib/python3.8/site-packages (from matplotlib>=2.2->seaborn) (1.3.2)\r\n",
      "Requirement already satisfied: pillow>=6.2.0 in /Users/taekkim/opt/anaconda3/lib/python3.8/site-packages (from matplotlib>=2.2->seaborn) (8.3.1)\r\n",
      "Requirement already satisfied: python-dateutil>=2.7 in /Users/taekkim/opt/anaconda3/lib/python3.8/site-packages (from matplotlib>=2.2->seaborn) (2.8.2)\r\n",
      "Requirement already satisfied: six in /Users/taekkim/opt/anaconda3/lib/python3.8/site-packages (from cycler>=0.10->matplotlib>=2.2->seaborn) (1.16.0)\r\n",
      "Requirement already satisfied: pytz>=2017.3 in /Users/taekkim/opt/anaconda3/lib/python3.8/site-packages (from pandas>=0.23->seaborn) (2021.1)\r\n",
      "\u001B[33mWARNING: You are using pip version 21.2.4; however, version 21.3 is available.\r\n",
      "You should consider upgrading via the '/Users/taekkim/opt/anaconda3/bin/python -m pip install --upgrade pip' command.\u001B[0m\r\n"
     ]
    }
   ],
   "source": [
    "!pip install seaborn"
   ]
  },
  {
   "cell_type": "code",
   "execution_count": 98,
   "id": "b77a0009",
   "metadata": {},
   "outputs": [
    {
     "name": "stdout",
     "output_type": "stream",
     "text": [
      "Requirement already satisfied: cutecharts in /Users/taekkim/opt/anaconda3/lib/python3.8/site-packages (1.2.0)\r\n",
      "Requirement already satisfied: jinja2 in /Users/taekkim/opt/anaconda3/lib/python3.8/site-packages (from cutecharts) (2.11.3)\r\n",
      "Requirement already satisfied: MarkupSafe>=0.23 in /Users/taekkim/opt/anaconda3/lib/python3.8/site-packages (from jinja2->cutecharts) (2.0.1)\r\n",
      "\u001B[33mWARNING: You are using pip version 21.2.4; however, version 21.3 is available.\r\n",
      "You should consider upgrading via the '/Users/taekkim/opt/anaconda3/bin/python -m pip install --upgrade pip' command.\u001B[0m\r\n"
     ]
    }
   ],
   "source": [
    "!pip install cutecharts"
   ]
  },
  {
   "cell_type": "code",
   "execution_count": 99,
   "id": "middle-legislature",
   "metadata": {},
   "outputs": [],
   "source": [
    "import os\n",
    "import matplotlib.pyplot as plt\n",
    "import numpy as np\n",
    "import pandas as pd\n",
    "import seaborn as sns"
   ]
  },
  {
   "cell_type": "code",
   "execution_count": 100,
   "id": "d7180f2a",
   "metadata": {},
   "outputs": [],
   "source": [
    "import cutecharts.charts as ctc"
   ]
  },
  {
   "cell_type": "markdown",
   "id": "aware-fault",
   "metadata": {},
   "source": [
    "# netflix data 불러오기"
   ]
  },
  {
   "cell_type": "code",
   "execution_count": 101,
   "id": "contemporary-syndicate",
   "metadata": {},
   "outputs": [],
   "source": [
    "PATH = os.getenv(\"HOME\") + \"/hakathon/data/\"\n",
    "csv_path = PATH + 'netflix_titles.csv'\n",
    "data = pd.read_csv(csv_path)\n",
    "data_copy=data.copy()\n",
    "df = pd.DataFrame(data)\n",
    "df['date_added'] = pd.to_datetime(df['date_added'])\n",
    "csv_path = PATH + \"netflix_stockprice.csv\"\n",
    "data2 = pd.read_csv(csv_path)\n",
    "data2_copy=data2.copy()\n",
    "df2 = pd.DataFrame(data2)\n",
    "df2['Date'] = pd.to_datetime(df2['Date'])\n",
    "df_titles_stockprice = pd.merge(df, df2, left_on='date_added', right_on='Date', how='inner')\n",
    "csv_path = PATH + \"rate_only.csv\"\n",
    "data3 = pd.read_csv(csv_path)\n",
    "data3_copy=data3.copy()\n",
    "df3 = pd.DataFrame(data3)\n",
    "df3['date_added'] = pd.to_datetime(df3['date_added'])\n",
    "# 원본 + 주가 데이터에 평점 데이터까지 합치기\n",
    "df_titles_rating_stockprice = pd.merge(df3, df2, left_on='date_added', right_on='Date', how='inner')\n",
    "csv_path = PATH + \"SPX_500_Data.csv\"\n",
    "data4 = pd.read_csv(csv_path)\n",
    "data4_copy=data4.copy()\n",
    "df4 = pd.DataFrame(data4)\n",
    "df4.tail()\n",
    "\n",
    "# df4 형식 datetime64로 맞춰주기\n",
    "df4['Date'] = pd.to_datetime(df4['Date'])\n",
    "\n",
    "# 원본 + 주가 + 평점 데이터에 S&P500 데이터까지 합치기 -> 겹치는 column명은 _x, _y로 라벨링됨\n",
    "df_titles_rating_stockprice_SP500 = pd.merge(df_titles_rating_stockprice, df4, left_on='date_added', right_on='Date', how='inner')"
   ]
  },
  {
   "cell_type": "code",
   "execution_count": 102,
   "outputs": [
    {
     "data": {
      "text/plain": "   Unnamed: 0 show_id     type         title     director_x  \\\n0           7     s49    Movie  Training Day  Antoine Fuqua   \n1           8     s74    Movie  King of Boys   Kemi Adetiba   \n2           9     s83  TV Show       Lucifer            NaN   \n3          10     s83  TV Show       Lucifer            NaN   \n4          11     s83  TV Show       Lucifer            NaN   \n\n                                                cast      country_x  \\\n0  Denzel Washington, Ethan Hawke, Scott Glenn, T...  United States   \n1  Sola Sobowale, Adesua Etomi, Remilekun \"Remini...        Nigeria   \n2  Tom Ellis, Lauren German, Kevin Alejandro, D.B...  United States   \n3  Tom Ellis, Lauren German, Kevin Alejandro, D.B...  United States   \n4  Tom Ellis, Lauren German, Kevin Alejandro, D.B...  United States   \n\n  date_added  release_year rating  ... Adj Close_x     Date_y   Open_y  \\\n0 2021-09-16          2001      R  ...  586.500000 2021-09-16  4477.09   \n1 2021-09-14          2018  TV-MA  ...  577.760010 2021-09-14  4479.33   \n2 2021-09-10          2021  TV-14  ...  598.719971 2021-09-10  4506.92   \n3 2021-09-10          2021  TV-14  ...  598.719971 2021-09-10  4506.92   \n4 2021-09-10          2021  TV-14  ...  598.719971 2021-09-10  4506.92   \n\n    High_y    Low_y  Close_y Adj Close_y    Volume_y  % Gain/Loss (Close)  \\\n0  4485.87  4443.80  4473.75     4473.75  3321030000              -0.1554   \n1  4485.68  4435.46  4443.05     4443.05  2568730000              -0.5780   \n2  4520.47  4457.66  4458.58     4458.58  2851140000              -0.7783   \n3  4520.47  4457.66  4458.58     4458.58  2851140000              -0.7783   \n4  4520.47  4457.66  4458.58     4458.58  2851140000              -0.7783   \n\n  % Price Variation  \n0             0.009  \n1             0.011  \n2             0.014  \n3             0.014  \n4             0.014  \n\n[5 rows x 98 columns]",
      "text/html": "<div>\n<style scoped>\n    .dataframe tbody tr th:only-of-type {\n        vertical-align: middle;\n    }\n\n    .dataframe tbody tr th {\n        vertical-align: top;\n    }\n\n    .dataframe thead th {\n        text-align: right;\n    }\n</style>\n<table border=\"1\" class=\"dataframe\">\n  <thead>\n    <tr style=\"text-align: right;\">\n      <th></th>\n      <th>Unnamed: 0</th>\n      <th>show_id</th>\n      <th>type</th>\n      <th>title</th>\n      <th>director_x</th>\n      <th>cast</th>\n      <th>country_x</th>\n      <th>date_added</th>\n      <th>release_year</th>\n      <th>rating</th>\n      <th>...</th>\n      <th>Adj Close_x</th>\n      <th>Date_y</th>\n      <th>Open_y</th>\n      <th>High_y</th>\n      <th>Low_y</th>\n      <th>Close_y</th>\n      <th>Adj Close_y</th>\n      <th>Volume_y</th>\n      <th>% Gain/Loss (Close)</th>\n      <th>% Price Variation</th>\n    </tr>\n  </thead>\n  <tbody>\n    <tr>\n      <th>0</th>\n      <td>7</td>\n      <td>s49</td>\n      <td>Movie</td>\n      <td>Training Day</td>\n      <td>Antoine Fuqua</td>\n      <td>Denzel Washington, Ethan Hawke, Scott Glenn, T...</td>\n      <td>United States</td>\n      <td>2021-09-16</td>\n      <td>2001</td>\n      <td>R</td>\n      <td>...</td>\n      <td>586.500000</td>\n      <td>2021-09-16</td>\n      <td>4477.09</td>\n      <td>4485.87</td>\n      <td>4443.80</td>\n      <td>4473.75</td>\n      <td>4473.75</td>\n      <td>3321030000</td>\n      <td>-0.1554</td>\n      <td>0.009</td>\n    </tr>\n    <tr>\n      <th>1</th>\n      <td>8</td>\n      <td>s74</td>\n      <td>Movie</td>\n      <td>King of Boys</td>\n      <td>Kemi Adetiba</td>\n      <td>Sola Sobowale, Adesua Etomi, Remilekun \"Remini...</td>\n      <td>Nigeria</td>\n      <td>2021-09-14</td>\n      <td>2018</td>\n      <td>TV-MA</td>\n      <td>...</td>\n      <td>577.760010</td>\n      <td>2021-09-14</td>\n      <td>4479.33</td>\n      <td>4485.68</td>\n      <td>4435.46</td>\n      <td>4443.05</td>\n      <td>4443.05</td>\n      <td>2568730000</td>\n      <td>-0.5780</td>\n      <td>0.011</td>\n    </tr>\n    <tr>\n      <th>2</th>\n      <td>9</td>\n      <td>s83</td>\n      <td>TV Show</td>\n      <td>Lucifer</td>\n      <td>NaN</td>\n      <td>Tom Ellis, Lauren German, Kevin Alejandro, D.B...</td>\n      <td>United States</td>\n      <td>2021-09-10</td>\n      <td>2021</td>\n      <td>TV-14</td>\n      <td>...</td>\n      <td>598.719971</td>\n      <td>2021-09-10</td>\n      <td>4506.92</td>\n      <td>4520.47</td>\n      <td>4457.66</td>\n      <td>4458.58</td>\n      <td>4458.58</td>\n      <td>2851140000</td>\n      <td>-0.7783</td>\n      <td>0.014</td>\n    </tr>\n    <tr>\n      <th>3</th>\n      <td>10</td>\n      <td>s83</td>\n      <td>TV Show</td>\n      <td>Lucifer</td>\n      <td>NaN</td>\n      <td>Tom Ellis, Lauren German, Kevin Alejandro, D.B...</td>\n      <td>United States</td>\n      <td>2021-09-10</td>\n      <td>2021</td>\n      <td>TV-14</td>\n      <td>...</td>\n      <td>598.719971</td>\n      <td>2021-09-10</td>\n      <td>4506.92</td>\n      <td>4520.47</td>\n      <td>4457.66</td>\n      <td>4458.58</td>\n      <td>4458.58</td>\n      <td>2851140000</td>\n      <td>-0.7783</td>\n      <td>0.014</td>\n    </tr>\n    <tr>\n      <th>4</th>\n      <td>11</td>\n      <td>s83</td>\n      <td>TV Show</td>\n      <td>Lucifer</td>\n      <td>NaN</td>\n      <td>Tom Ellis, Lauren German, Kevin Alejandro, D.B...</td>\n      <td>United States</td>\n      <td>2021-09-10</td>\n      <td>2021</td>\n      <td>TV-14</td>\n      <td>...</td>\n      <td>598.719971</td>\n      <td>2021-09-10</td>\n      <td>4506.92</td>\n      <td>4520.47</td>\n      <td>4457.66</td>\n      <td>4458.58</td>\n      <td>4458.58</td>\n      <td>2851140000</td>\n      <td>-0.7783</td>\n      <td>0.014</td>\n    </tr>\n  </tbody>\n</table>\n<p>5 rows × 98 columns</p>\n</div>"
     },
     "execution_count": 102,
     "metadata": {},
     "output_type": "execute_result"
    }
   ],
   "source": [
    "df_copy = df.copy()\n",
    "df = df_titles_rating_stockprice_SP500\n",
    "df.head()"
   ],
   "metadata": {
    "collapsed": false,
    "pycharm": {
     "name": "#%%\n"
    }
   }
  },
  {
   "cell_type": "code",
   "execution_count": 103,
   "outputs": [
    {
     "data": {
      "text/plain": "Index(['Unnamed: 0', 'show_id', 'type', 'title', 'director_x', 'cast',\n       'country_x', 'date_added', 'release_year', 'rating', 'duration_x',\n       'listed_in', 'description_x', 'imdb_title_id', 'original_title', 'year',\n       'date_published', 'genre', 'duration_y', 'country_y', 'language',\n       'director_y', 'writer', 'production_company', 'actors', 'description_y',\n       'avg_vote', 'votes', 'budget', 'usa_gross_income',\n       'worlwide_gross_income', 'metascore', 'reviews_from_users',\n       'reviews_from_critics', 'weighted_average_vote', 'total_votes',\n       'mean_vote', 'median_vote', 'votes_10', 'votes_9', 'votes_8', 'votes_7',\n       'votes_6', 'votes_5', 'votes_4', 'votes_3', 'votes_2', 'votes_1',\n       'allgenders_0age_avg_vote', 'allgenders_0age_votes',\n       'allgenders_18age_avg_vote', 'allgenders_18age_votes',\n       'allgenders_30age_avg_vote', 'allgenders_30age_votes',\n       'allgenders_45age_avg_vote', 'allgenders_45age_votes',\n       'males_allages_avg_vote', 'males_allages_votes', 'males_0age_avg_vote',\n       'males_0age_votes', 'males_18age_avg_vote', 'males_18age_votes',\n       'males_30age_avg_vote', 'males_30age_votes', 'males_45age_avg_vote',\n       'males_45age_votes', 'females_allages_avg_vote',\n       'females_allages_votes', 'females_0age_avg_vote', 'females_0age_votes',\n       'females_18age_avg_vote', 'females_18age_votes',\n       'females_30age_avg_vote', 'females_30age_votes',\n       'females_45age_avg_vote', 'females_45age_votes',\n       'top1000_voters_rating', 'top1000_voters_votes', 'us_voters_rating',\n       'us_voters_votes', 'non_us_voters_rating', 'non_us_voters_votes',\n       'Date_x', 'High_x', 'Low_x', 'Open_x', 'Close_x', 'Volume_x',\n       'Adj Close_x', 'Date_y', 'Open_y', 'High_y', 'Low_y', 'Close_y',\n       'Adj Close_y', 'Volume_y', '% Gain/Loss (Close)', '% Price Variation'],\n      dtype='object')"
     },
     "execution_count": 103,
     "metadata": {},
     "output_type": "execute_result"
    }
   ],
   "source": [
    "df.columns"
   ],
   "metadata": {
    "collapsed": false,
    "pycharm": {
     "name": "#%%\n"
    }
   }
  },
  {
   "cell_type": "code",
   "execution_count": 104,
   "outputs": [
    {
     "data": {
      "text/plain": "      type         title     director_x  \\\n0    Movie  Training Day  Antoine Fuqua   \n1    Movie  King of Boys   Kemi Adetiba   \n2  TV Show       Lucifer            NaN   \n3  TV Show       Lucifer            NaN   \n4  TV Show       Lucifer            NaN   \n\n                                                cast      country_x  \\\n0  Denzel Washington, Ethan Hawke, Scott Glenn, T...  United States   \n1  Sola Sobowale, Adesua Etomi, Remilekun \"Remini...        Nigeria   \n2  Tom Ellis, Lauren German, Kevin Alejandro, D.B...  United States   \n3  Tom Ellis, Lauren German, Kevin Alejandro, D.B...  United States   \n4  Tom Ellis, Lauren German, Kevin Alejandro, D.B...  United States   \n\n  date_added  release_year rating duration_x  \\\n0 2021-09-16          2001      R    122 min   \n1 2021-09-14          2018  TV-MA    182 min   \n2 2021-09-10          2021  TV-14  6 Seasons   \n3 2021-09-10          2021  TV-14  6 Seasons   \n4 2021-09-10          2021  TV-14  6 Seasons   \n\n                                listed_in  ... Adj Close_x     Date_y  \\\n0                       Dramas, Thrillers  ...  586.500000 2021-09-16   \n1            Dramas, International Movies  ...  577.760010 2021-09-14   \n2  Crime TV Shows, TV Comedies, TV Dramas  ...  598.719971 2021-09-10   \n3  Crime TV Shows, TV Comedies, TV Dramas  ...  598.719971 2021-09-10   \n4  Crime TV Shows, TV Comedies, TV Dramas  ...  598.719971 2021-09-10   \n\n    Open_y   High_y    Low_y  Close_y  Adj Close_y    Volume_y  \\\n0  4477.09  4485.87  4443.80  4473.75      4473.75  3321030000   \n1  4479.33  4485.68  4435.46  4443.05      4443.05  2568730000   \n2  4506.92  4520.47  4457.66  4458.58      4458.58  2851140000   \n3  4506.92  4520.47  4457.66  4458.58      4458.58  2851140000   \n4  4506.92  4520.47  4457.66  4458.58      4458.58  2851140000   \n\n  % Gain/Loss (Close) % Price Variation  \n0             -0.1554             0.009  \n1             -0.5780             0.011  \n2             -0.7783             0.014  \n3             -0.7783             0.014  \n4             -0.7783             0.014  \n\n[5 rows x 96 columns]",
      "text/html": "<div>\n<style scoped>\n    .dataframe tbody tr th:only-of-type {\n        vertical-align: middle;\n    }\n\n    .dataframe tbody tr th {\n        vertical-align: top;\n    }\n\n    .dataframe thead th {\n        text-align: right;\n    }\n</style>\n<table border=\"1\" class=\"dataframe\">\n  <thead>\n    <tr style=\"text-align: right;\">\n      <th></th>\n      <th>type</th>\n      <th>title</th>\n      <th>director_x</th>\n      <th>cast</th>\n      <th>country_x</th>\n      <th>date_added</th>\n      <th>release_year</th>\n      <th>rating</th>\n      <th>duration_x</th>\n      <th>listed_in</th>\n      <th>...</th>\n      <th>Adj Close_x</th>\n      <th>Date_y</th>\n      <th>Open_y</th>\n      <th>High_y</th>\n      <th>Low_y</th>\n      <th>Close_y</th>\n      <th>Adj Close_y</th>\n      <th>Volume_y</th>\n      <th>% Gain/Loss (Close)</th>\n      <th>% Price Variation</th>\n    </tr>\n  </thead>\n  <tbody>\n    <tr>\n      <th>0</th>\n      <td>Movie</td>\n      <td>Training Day</td>\n      <td>Antoine Fuqua</td>\n      <td>Denzel Washington, Ethan Hawke, Scott Glenn, T...</td>\n      <td>United States</td>\n      <td>2021-09-16</td>\n      <td>2001</td>\n      <td>R</td>\n      <td>122 min</td>\n      <td>Dramas, Thrillers</td>\n      <td>...</td>\n      <td>586.500000</td>\n      <td>2021-09-16</td>\n      <td>4477.09</td>\n      <td>4485.87</td>\n      <td>4443.80</td>\n      <td>4473.75</td>\n      <td>4473.75</td>\n      <td>3321030000</td>\n      <td>-0.1554</td>\n      <td>0.009</td>\n    </tr>\n    <tr>\n      <th>1</th>\n      <td>Movie</td>\n      <td>King of Boys</td>\n      <td>Kemi Adetiba</td>\n      <td>Sola Sobowale, Adesua Etomi, Remilekun \"Remini...</td>\n      <td>Nigeria</td>\n      <td>2021-09-14</td>\n      <td>2018</td>\n      <td>TV-MA</td>\n      <td>182 min</td>\n      <td>Dramas, International Movies</td>\n      <td>...</td>\n      <td>577.760010</td>\n      <td>2021-09-14</td>\n      <td>4479.33</td>\n      <td>4485.68</td>\n      <td>4435.46</td>\n      <td>4443.05</td>\n      <td>4443.05</td>\n      <td>2568730000</td>\n      <td>-0.5780</td>\n      <td>0.011</td>\n    </tr>\n    <tr>\n      <th>2</th>\n      <td>TV Show</td>\n      <td>Lucifer</td>\n      <td>NaN</td>\n      <td>Tom Ellis, Lauren German, Kevin Alejandro, D.B...</td>\n      <td>United States</td>\n      <td>2021-09-10</td>\n      <td>2021</td>\n      <td>TV-14</td>\n      <td>6 Seasons</td>\n      <td>Crime TV Shows, TV Comedies, TV Dramas</td>\n      <td>...</td>\n      <td>598.719971</td>\n      <td>2021-09-10</td>\n      <td>4506.92</td>\n      <td>4520.47</td>\n      <td>4457.66</td>\n      <td>4458.58</td>\n      <td>4458.58</td>\n      <td>2851140000</td>\n      <td>-0.7783</td>\n      <td>0.014</td>\n    </tr>\n    <tr>\n      <th>3</th>\n      <td>TV Show</td>\n      <td>Lucifer</td>\n      <td>NaN</td>\n      <td>Tom Ellis, Lauren German, Kevin Alejandro, D.B...</td>\n      <td>United States</td>\n      <td>2021-09-10</td>\n      <td>2021</td>\n      <td>TV-14</td>\n      <td>6 Seasons</td>\n      <td>Crime TV Shows, TV Comedies, TV Dramas</td>\n      <td>...</td>\n      <td>598.719971</td>\n      <td>2021-09-10</td>\n      <td>4506.92</td>\n      <td>4520.47</td>\n      <td>4457.66</td>\n      <td>4458.58</td>\n      <td>4458.58</td>\n      <td>2851140000</td>\n      <td>-0.7783</td>\n      <td>0.014</td>\n    </tr>\n    <tr>\n      <th>4</th>\n      <td>TV Show</td>\n      <td>Lucifer</td>\n      <td>NaN</td>\n      <td>Tom Ellis, Lauren German, Kevin Alejandro, D.B...</td>\n      <td>United States</td>\n      <td>2021-09-10</td>\n      <td>2021</td>\n      <td>TV-14</td>\n      <td>6 Seasons</td>\n      <td>Crime TV Shows, TV Comedies, TV Dramas</td>\n      <td>...</td>\n      <td>598.719971</td>\n      <td>2021-09-10</td>\n      <td>4506.92</td>\n      <td>4520.47</td>\n      <td>4457.66</td>\n      <td>4458.58</td>\n      <td>4458.58</td>\n      <td>2851140000</td>\n      <td>-0.7783</td>\n      <td>0.014</td>\n    </tr>\n  </tbody>\n</table>\n<p>5 rows × 96 columns</p>\n</div>"
     },
     "execution_count": 104,
     "metadata": {},
     "output_type": "execute_result"
    }
   ],
   "source": [
    "df.drop(columns=['Unnamed: 0','show_id'], inplace=True)\n",
    "df.head()"
   ],
   "metadata": {
    "collapsed": false,
    "pycharm": {
     "name": "#%%\n"
    }
   }
  },
  {
   "cell_type": "code",
   "execution_count": 105,
   "outputs": [
    {
     "data": {
      "text/plain": "2018    322\n2019    263\n2017    241\n2016    229\n2015    163\n2020    144\n2014    102\n2021     81\n2012     79\n2013     65\n2010     60\n2011     44\n2009     42\n2008     36\n2004     29\n2007     27\n2006     27\n2003     20\n1997     20\n2005     20\n2002     18\n1999     13\n1995     10\n2001     10\n2000     10\n1990      9\n1998      8\n1976      7\n1982      6\n1996      6\n1981      5\n1994      5\n1977      4\n1973      4\n1985      4\n1991      4\n1979      3\n1984      3\n1993      3\n1972      3\n1980      2\n1962      2\n1958      2\n1974      2\n1983      2\n1975      2\n1992      2\n1986      2\n1964      2\n1946      2\n1960      1\n1970      1\n1956      1\n1969      1\nName: release_year, dtype: int64"
     },
     "execution_count": 105,
     "metadata": {},
     "output_type": "execute_result"
    }
   ],
   "source": [
    "df['release_year'].value_counts()"
   ],
   "metadata": {
    "collapsed": false,
    "pycharm": {
     "name": "#%%\n"
    }
   }
  },
  {
   "cell_type": "code",
   "execution_count": 106,
   "outputs": [
    {
     "data": {
      "text/plain": "2018     True\n2019     True\n2017     True\n2016     True\n2015     True\n2020     True\n2014     True\n2021     True\n2012     True\n2013     True\n2010     True\n2011     True\n2009     True\n2008     True\n2004     True\n2007     True\n2006     True\n2003     True\n1997     True\n2005     True\n2002     True\n1999     True\n1995     True\n2001     True\n2000     True\n1990     True\n1998     True\n1976     True\n1982     True\n1996     True\n1981    False\n1994    False\n1977    False\n1973    False\n1985    False\n1991    False\n1979    False\n1984    False\n1993    False\n1972    False\n1980    False\n1962    False\n1958    False\n1974    False\n1983    False\n1975    False\n1992    False\n1986    False\n1964    False\n1946    False\n1960    False\n1970    False\n1956    False\n1969    False\nName: release_year, dtype: bool"
     },
     "execution_count": 106,
     "metadata": {},
     "output_type": "execute_result"
    }
   ],
   "source": [
    "df_bool = df['release_year'].value_counts() > 5\n",
    "df_bool"
   ],
   "metadata": {
    "collapsed": false,
    "pycharm": {
     "name": "#%%\n"
    }
   }
  },
  {
   "cell_type": "code",
   "execution_count": 107,
   "outputs": [
    {
     "data": {
      "text/plain": "              duration_y  avg_vote          votes  metascore  \\\nrelease_year                                                   \n1946           96.500000  5.700000    1334.500000        NaN   \n1956           94.000000  6.100000    1910.000000        NaN   \n1958           98.500000  6.450000    9714.000000  82.000000   \n1960          167.000000  7.400000     407.000000        NaN   \n1962          145.000000  7.250000   70821.000000  62.500000   \n1964          204.000000  7.650000   43156.500000  95.000000   \n1969          138.000000  4.200000    1870.000000        NaN   \n1970          104.000000  6.400000    1598.000000  50.000000   \n1972          123.666667  7.233333    3661.000000  52.000000   \n1973          147.000000  6.100000   10813.500000  54.000000   \n1974          134.000000  7.100000     393.500000        NaN   \n1975          120.000000  7.800000    6057.000000        NaN   \n1976          130.571429  6.700000   80764.000000  70.000000   \n1977          151.500000  6.325000    2099.500000        NaN   \n1979          114.666667  7.466667   68347.000000  61.000000   \n1980          108.000000  5.950000    5184.000000        NaN   \n1981          118.600000  6.860000    1508.800000  55.000000   \n1982          137.666667  7.150000   29625.500000  57.000000   \n1983          153.000000  8.400000    3197.000000        NaN   \n1984          150.333333  6.900000     202.666667        NaN   \n1985          125.000000  7.175000   47280.500000  40.000000   \n1986          123.500000  6.000000     169.500000        NaN   \n1990          154.555556  6.688889   18580.777778  55.000000   \n1991          127.000000  5.400000    1861.750000        NaN   \n1992          149.000000  6.800000   87893.000000  41.000000   \n1993          143.000000  7.000000   73487.000000  66.000000   \n1994          138.400000  6.860000   15402.800000        NaN   \n1995          127.700000  6.040000   64363.300000  47.800000   \n1996          131.000000  6.066667  143549.166667  67.500000   \n1997          127.100000  6.155000   42732.450000  65.200000   \n1998          119.250000  6.237500  137226.500000  54.500000   \n1999          127.538462  6.153846    7158.692308  60.666667   \n2000          133.900000  5.780000   49080.000000  53.600000   \n2001          123.900000  6.430000   97703.100000  62.428571   \n2002          120.000000  6.305556   69794.444444  55.000000   \n2003          129.750000  6.230000   45744.900000  47.800000   \n2004          116.551724  6.393103   48534.379310  60.444444   \n2005          130.200000  6.075000   20100.600000  43.800000   \n2006          122.407407  6.551852   55009.740741  56.000000   \n2007          128.222222  6.537037   77135.740741  58.666667   \n2008          112.722222  6.144444   77634.694444  61.833333   \n2009          114.928571  6.519048   72425.119048  62.937500   \n2010          112.183333  5.983333   65210.050000  55.318182   \n2011          112.068182  6.200000   40802.295455  58.000000   \n2012          111.569620  5.901266   32128.227848  58.900000   \n2013          115.646154  5.963077   35592.707692  58.304348   \n2014          109.676471  5.800000   17829.107843  49.648649   \n2015          105.159509  6.058282   25401.858896  56.859649   \n2016          101.034934  5.720524   10454.131004  54.764706   \n2017          103.597510  5.868465   18888.572614  57.974026   \n2018          104.894410  5.780124   17676.854037  55.693069   \n2019          103.076046  5.672243   19813.030418  55.390625   \n2020          106.312500  5.685417    9267.104167  58.282051   \n2021           99.827160  5.343210    8515.246914  51.142857   \n\n              reviews_from_users  reviews_from_critics  weighted_average_vote  \\\nrelease_year                                                                    \n1946                  109.000000             13.000000               5.700000   \n1956                   54.000000             54.000000               6.100000   \n1958                   73.500000             40.000000               6.450000   \n1960                    7.000000              2.000000               7.400000   \n1962                  246.500000             82.500000               7.250000   \n1964                  170.500000             47.500000               7.650000   \n1969                   24.000000              5.000000               4.200000   \n1970                   12.000000             13.000000               6.400000   \n1972                   51.666667             21.666667               7.233333   \n1973                   94.666667             99.500000               6.100000   \n1974                    6.500000                   NaN               7.100000   \n1975                   11.000000              4.000000               7.800000   \n1976                  117.571429             32.857143               6.700000   \n1977                   11.000000              6.333333               6.325000   \n1979                   86.666667             32.333333               7.466667   \n1980                   52.500000             10.000000               5.950000   \n1981                   14.600000              4.400000               6.860000   \n1982                   48.833333             21.000000               7.150000   \n1983                   25.000000              2.000000               8.400000   \n1984                    2.000000              1.500000               6.900000   \n1985                  102.500000             29.500000               7.175000   \n1986                    2.000000              9.000000               6.000000   \n1990                   60.666667             17.125000               6.688889   \n1991                    6.250000              5.000000               5.400000   \n1992                  178.000000            129.000000               6.800000   \n1993                  104.000000             43.000000               7.000000   \n1994                   39.400000              4.600000               6.860000   \n1995                  139.500000             48.125000               6.040000   \n1996                  200.000000             86.500000               6.066667   \n1997                  147.611111             48.388889               6.155000   \n1998                  274.500000             47.500000               6.237500   \n1999                   50.307692             18.666667               6.153846   \n2000                  323.300000             89.333333               5.780000   \n2001                  282.600000             87.900000               6.430000   \n2002                  216.888889             60.411765               6.305556   \n2003                  148.100000             45.200000               6.230000   \n2004                  130.642857             47.555556               6.393103   \n2005                   89.200000             34.100000               6.075000   \n2006                  336.400000             87.192308               6.551852   \n2007                  237.423077             96.347826               6.537037   \n2008                  204.657143             90.303030               6.144444   \n2009                  215.560976            105.256410               6.519048   \n2010                  164.724138             99.381818               5.983333   \n2011                   90.166667             84.205128               6.200000   \n2012                  226.946667             74.763889               5.901266   \n2013                   93.539683             95.000000               5.963077   \n2014                   83.865979             63.176471               5.800000   \n2015                   86.756250             65.743243               6.058282   \n2016                   55.331858             43.635922               5.720524   \n2017                   95.914530             46.063063               5.868465   \n2018                  115.671924             41.561644               5.780124   \n2019                  135.665339             33.422131               5.672243   \n2020                  183.446809             33.125926               5.685417   \n2021                   65.068493             28.000000               5.343210   \n\n                total_votes  mean_vote  median_vote  ...      Volume_x  \\\nrelease_year                                         ...                 \n1946            1334.500000   6.300000     7.000000  ...  3.888200e+06   \n1956            1910.000000   6.100000     6.000000  ...  4.277600e+06   \n1958            9714.000000   6.650000     6.500000  ...  5.594300e+06   \n1960             407.000000   7.500000     8.000000  ...  3.713300e+06   \n1962           70821.000000   7.350000     7.500000  ...  5.594300e+06   \n1964           43156.500000   7.750000     8.000000  ...  3.825950e+06   \n1969            1870.000000   4.900000     5.000000  ...  3.896300e+06   \n1970            1598.000000   6.700000     7.000000  ...  4.277600e+06   \n1972            3661.000000   7.366667     7.666667  ...  4.340300e+06   \n1973           10813.500000   6.900000     7.000000  ...  3.713300e+06   \n1974             393.500000   7.400000     8.000000  ...  3.763150e+06   \n1975            6057.000000   7.850000     8.000000  ...  6.181800e+06   \n1976           80764.000000   7.014286     7.000000  ...  5.472114e+06   \n1977            2099.500000   6.925000     7.000000  ...  3.713300e+06   \n1979           68347.000000   7.566667     7.666667  ...  4.663267e+06   \n1980            5184.000000   7.750000     8.000000  ...  5.640400e+06   \n1981            1508.800000   7.120000     7.000000  ...  4.259520e+06   \n1982           29625.500000   7.350000     7.500000  ...  4.467917e+06   \n1983            3197.000000   8.500000     9.000000  ...  3.713300e+06   \n1984             202.666667   7.266667     7.666667  ...  5.719333e+06   \n1985           47280.500000   7.350000     7.750000  ...  4.136625e+06   \n1986             169.500000   6.050000     6.500000  ...  5.306750e+06   \n1990           18580.777778   6.955556     6.888889  ...  5.060400e+06   \n1991            1861.750000   6.150000     6.250000  ...  5.147025e+06   \n1992           87893.000000   7.200000     7.000000  ...  6.562850e+06   \n1993           73487.000000   7.033333     7.333333  ...  6.112533e+06   \n1994           15402.800000   7.380000     8.000000  ...  6.586200e+06   \n1995           64363.300000   6.620000     6.600000  ...  5.281250e+06   \n1996          143549.166667   6.650000     6.666667  ...  7.551650e+06   \n1997           42732.450000   6.445000     6.450000  ...  5.766065e+06   \n1998          137226.500000   6.537500     6.375000  ...  6.236950e+06   \n1999            7158.692308   6.376923     6.384615  ...  5.978531e+06   \n2000           49080.000000   6.070000     6.200000  ...  6.987750e+06   \n2001           97703.100000   6.710000     6.700000  ...  5.441320e+06   \n2002           69794.444444   6.527778     6.611111  ...  8.112928e+06   \n2003           45744.900000   6.485000     6.500000  ...  6.596460e+06   \n2004           48534.379310   6.655172     6.637931  ...  7.988086e+06   \n2005           20100.600000   6.410000     6.500000  ...  6.374885e+06   \n2006           55009.740741   6.829630     7.000000  ...  5.757730e+06   \n2007           77135.740741   6.877778     7.000000  ...  7.963359e+06   \n2008           77634.694444   6.422222     6.486111  ...  7.320661e+06   \n2009           72425.119048   6.766667     6.869048  ...  6.720988e+06   \n2010           65210.050000   6.320000     6.375000  ...  6.768053e+06   \n2011           40802.295455   6.509091     6.579545  ...  5.802095e+06   \n2012           32128.227848   6.246835     6.379747  ...  7.680435e+06   \n2013           35592.707692   6.295385     6.307692  ...  8.512746e+06   \n2014           17829.107843   6.186275     6.274510  ...  9.368505e+06   \n2015           25401.858896   6.346012     6.475460  ...  8.872569e+06   \n2016           10454.131004   6.030568     6.113537  ...  7.526469e+06   \n2017           18888.572614   6.202490     6.298755  ...  8.094773e+06   \n2018           17676.854037   6.161180     6.265528  ...  9.746443e+06   \n2019           19813.030418   6.076046     6.100760  ...  6.694099e+06   \n2020            9267.104167   6.026389     6.059028  ...  6.704456e+06   \n2021            8515.246914   5.765432     5.765432  ...  4.644052e+06   \n\n              Adj Close_x       Open_y       High_y        Low_y      Close_y  \\\nrelease_year                                                                    \n1946           147.809998  2364.820000  2370.350000  2362.600000  2362.720000   \n1956           449.869995  3101.640000  3120.000000  3093.510000  3115.340000   \n1958           286.809998  3050.720000  3066.950000  3050.720000  3066.910000   \n1960           323.570007  3215.180000  3231.720000  3212.030000  3230.780000   \n1962           286.809998  3050.720000  3066.950000  3050.720000  3066.910000   \n1964           431.494995  3603.980000  3626.175000  3602.405000  3625.325000   \n1969           162.990005  2415.650000  2430.060000  2413.540000  2430.060000   \n1970           449.869995  3101.640000  3120.000000  3093.510000  3115.340000   \n1972           311.316671  3160.360000  3176.796667  3158.260000  3176.156667   \n1973           323.570007  3215.180000  3231.720000  3212.030000  3230.780000   \n1974           249.155006  2844.800000  2856.050000  2842.940000  2853.665000   \n1975           296.574997  3099.435000  3112.125000  3075.365000  3085.515000   \n1976           311.322859  3067.537143  3091.158571  3051.598571  3065.151429   \n1977           323.570007  3215.180000  3231.720000  3212.030000  3230.780000   \n1979           322.213338  3136.893333  3159.010000  3123.096667  3138.373333   \n1980           427.144989  3354.420000  3367.070000  3315.980000  3328.850000   \n1981           399.219992  3579.044000  3591.762000  3562.462000  3577.498000   \n1982           358.931671  3223.510000  3248.386667  3215.493333  3235.150000   \n1983           323.570007  3215.180000  3231.720000  3212.030000  3230.780000   \n1984           300.966660  2490.193333  2508.626667  2456.276667  2472.516667   \n1985           372.882507  3454.885000  3476.697500  3444.537500  3461.055000   \n1986           385.305000  3587.505000  3594.380000  3583.060000  3587.795000   \n1990           380.173333  3093.026667  3120.630000  3076.394444  3098.457778   \n1991           286.922497  3116.857500  3123.015000  3113.580000  3119.647500   \n1992           343.765007  2889.925000  2900.615000  2877.665000  2891.560000   \n1993           367.586660  2655.856667  2674.476667  2615.733333  2635.110000   \n1994           373.105998  3309.174000  3321.910000  3302.054000  3312.878000   \n1995           359.861993  3405.054000  3419.808000  3385.634000  3398.142000   \n1996           309.519999  3111.795000  3122.290000  3101.331667  3108.200000   \n1997           384.991998  3323.876500  3335.727000  3306.848000  3318.178500   \n1998           377.822496  3110.346250  3127.841250  3094.318750  3118.836250   \n1999           425.909231  3524.853846  3535.856923  3488.900769  3506.143846   \n2000           385.431000  3273.724000  3291.087000  3253.861000  3272.169000   \n2001           374.248996  3362.610000  3378.366000  3349.651000  3366.174000   \n2002           387.588331  3236.351667  3257.060000  3215.461667  3233.746111   \n2003           397.516998  3402.157500  3417.400000  3382.468000  3398.292500   \n2004           377.371727  3204.820000  3219.761379  3179.610000  3195.473448   \n2005           386.961995  3206.551000  3220.247500  3178.789000  3194.371000   \n2006           402.946666  3258.545556  3276.265556  3243.317407  3263.239259   \n2007           361.778153  3088.204074  3104.433333  3069.713704  3087.773704   \n2008           369.512494  3127.035833  3141.890000  3111.401111  3128.559167   \n2009           370.983329  3174.679286  3188.061190  3164.301905  3178.230952   \n2010           381.934499  3142.725333  3167.778000  3127.062333  3155.089000   \n2011           379.639090  3229.926591  3251.198864  3220.677727  3243.498636   \n2012           361.243634  2984.614810  3000.427722  2970.103165  2986.942405   \n2013           341.733339  2988.820462  3007.358769  2973.598923  2994.088769   \n2014           314.370153  2899.765882  2915.888039  2887.861569  2902.593333   \n2015           283.067869  2787.835521  2800.092393  2773.940982  2786.261656   \n2016           250.052445  2655.430349  2667.032926  2644.248952  2657.120961   \n2017           294.018838  2790.542365  2802.521494  2775.142697  2789.528589   \n2018           353.809875  2901.631211  2917.432329  2882.891584  2899.159876   \n2019           369.576730  3141.940989  3160.037985  3127.305209  3147.803840   \n2020           466.972083  3311.304444  3330.263403  3279.652361  3303.386667   \n2021           524.697033  4176.524321  4198.156790  4156.363210  4179.142222   \n\n              Adj Close_y      Volume_y  % Gain/Loss (Close)  \\\nrelease_year                                                   \n1946          2362.720000  3.354110e+09            -0.226000   \n1956          3115.340000  4.429030e+09             0.059400   \n1958          3066.910000  3.930200e+09             0.957000   \n1960          3230.780000  2.893810e+09             0.293700   \n1962          3066.910000  3.930200e+09             0.957000   \n1964          3625.325000  3.522525e+09             0.731200   \n1969          2430.060000  3.857140e+09             0.751400   \n1970          3115.340000  4.429030e+09             0.059400   \n1972          3176.156667  3.239273e+09             0.514800   \n1973          3230.780000  2.893810e+09             0.293700   \n1974          2853.665000  2.802270e+09             0.245800   \n1975          3085.515000  3.225925e+09            -0.473700   \n1976          3065.151429  3.990703e+09            -0.031843   \n1977          3230.780000  2.893810e+09             0.293700   \n1979          3138.373333  3.516640e+09            -0.106900   \n1980          3328.850000  3.490005e+09            -0.683200   \n1981          3577.498000  4.479912e+09            -0.095560   \n1982          3235.150000  3.294418e+09             0.313633   \n1983          3230.780000  2.893810e+09             0.293700   \n1984          2472.516667  4.868843e+09            -3.012767   \n1985          3461.055000  3.321035e+09             0.069075   \n1986          3587.795000  3.103990e+09             0.289400   \n1990          3098.457778  3.899031e+09            -0.637700   \n1991          3119.647500  3.105070e+09             0.418500   \n1992          2891.560000  3.772065e+09             0.500950   \n1993          2635.110000  5.136357e+09            -2.824933   \n1994          3312.878000  3.557150e+09             0.135260   \n1995          3398.142000  3.404255e+09            -0.184010   \n1996          3108.200000  3.401472e+09             0.079583   \n1997          3318.178500  4.047386e+09            -0.081755   \n1998          3118.836250  4.102192e+09            -0.104050   \n1999          3506.143846  4.144569e+09            -0.400085   \n2000          3272.169000  3.637838e+09            -0.085760   \n2001          3366.174000  3.617425e+09             0.341160   \n2002          3233.746111  3.766637e+09            -0.147000   \n2003          3398.292500  3.545187e+09            -0.103825   \n2004          3195.473448  3.988848e+09            -0.287428   \n2005          3194.371000  4.067275e+09            -0.495735   \n2006          3263.239259  3.941407e+09             0.281478   \n2007          3087.773704  3.876475e+09             0.115537   \n2008          3128.559167  4.011985e+09             0.117467   \n2009          3178.230952  3.768433e+09             0.378229   \n2010          3155.089000  4.015371e+09             0.421553   \n2011          3243.498636  3.789555e+09             0.402236   \n2012          2986.942405  3.997714e+09             0.103746   \n2013          2994.088769  3.968425e+09             0.197675   \n2014          2902.593333  3.739284e+09             0.012950   \n2015          2786.261656  3.895330e+09            -0.088453   \n2016          2657.120961  3.851744e+09             0.152030   \n2017          2789.528589  3.719545e+09            -0.005718   \n2018          2899.159876  3.952648e+09            -0.068862   \n2019          3147.803840  3.969411e+09             0.329455   \n2020          3303.386667  4.998714e+09            -0.313292   \n2021          4179.142222  4.165996e+09             0.117542   \n\n              % Price Variation  \nrelease_year                     \n1946                   0.003000  \n1956                   0.009000  \n1958                   0.005000  \n1960                   0.006000  \n1962                   0.005000  \n1964                   0.006500  \n1969                   0.007000  \n1970                   0.009000  \n1972                   0.005667  \n1973                   0.006000  \n1974                   0.004500  \n1975                   0.012000  \n1976                   0.013000  \n1977                   0.006000  \n1979                   0.011667  \n1980                   0.015000  \n1981                   0.009000  \n1982                   0.010167  \n1983                   0.006000  \n1984                   0.021000  \n1985                   0.010000  \n1986                   0.003000  \n1990                   0.015000  \n1991                   0.003000  \n1992                   0.007500  \n1993                   0.023000  \n1994                   0.006400  \n1995                   0.010800  \n1996                   0.006667  \n1997                   0.009350  \n1998                   0.010750  \n1999                   0.014077  \n2000                   0.013000  \n2001                   0.008700  \n2002                   0.013722  \n2003                   0.011500  \n2004                   0.013759  \n2005                   0.013550  \n2006                   0.010259  \n2007                   0.011889  \n2008                   0.009944  \n2009                   0.007643  \n2010                   0.013683  \n2011                   0.009636  \n2012                   0.010532  \n2013                   0.011385  \n2014                   0.009922  \n2015                   0.009448  \n2016                   0.008380  \n2017                   0.009863  \n2018                   0.012205  \n2019                   0.010848  \n2020                   0.016632  \n2021                   0.010272  \n\n[54 rows x 68 columns]",
      "text/html": "<div>\n<style scoped>\n    .dataframe tbody tr th:only-of-type {\n        vertical-align: middle;\n    }\n\n    .dataframe tbody tr th {\n        vertical-align: top;\n    }\n\n    .dataframe thead th {\n        text-align: right;\n    }\n</style>\n<table border=\"1\" class=\"dataframe\">\n  <thead>\n    <tr style=\"text-align: right;\">\n      <th></th>\n      <th>duration_y</th>\n      <th>avg_vote</th>\n      <th>votes</th>\n      <th>metascore</th>\n      <th>reviews_from_users</th>\n      <th>reviews_from_critics</th>\n      <th>weighted_average_vote</th>\n      <th>total_votes</th>\n      <th>mean_vote</th>\n      <th>median_vote</th>\n      <th>...</th>\n      <th>Volume_x</th>\n      <th>Adj Close_x</th>\n      <th>Open_y</th>\n      <th>High_y</th>\n      <th>Low_y</th>\n      <th>Close_y</th>\n      <th>Adj Close_y</th>\n      <th>Volume_y</th>\n      <th>% Gain/Loss (Close)</th>\n      <th>% Price Variation</th>\n    </tr>\n    <tr>\n      <th>release_year</th>\n      <th></th>\n      <th></th>\n      <th></th>\n      <th></th>\n      <th></th>\n      <th></th>\n      <th></th>\n      <th></th>\n      <th></th>\n      <th></th>\n      <th></th>\n      <th></th>\n      <th></th>\n      <th></th>\n      <th></th>\n      <th></th>\n      <th></th>\n      <th></th>\n      <th></th>\n      <th></th>\n      <th></th>\n    </tr>\n  </thead>\n  <tbody>\n    <tr>\n      <th>1946</th>\n      <td>96.500000</td>\n      <td>5.700000</td>\n      <td>1334.500000</td>\n      <td>NaN</td>\n      <td>109.000000</td>\n      <td>13.000000</td>\n      <td>5.700000</td>\n      <td>1334.500000</td>\n      <td>6.300000</td>\n      <td>7.000000</td>\n      <td>...</td>\n      <td>3.888200e+06</td>\n      <td>147.809998</td>\n      <td>2364.820000</td>\n      <td>2370.350000</td>\n      <td>2362.600000</td>\n      <td>2362.720000</td>\n      <td>2362.720000</td>\n      <td>3.354110e+09</td>\n      <td>-0.226000</td>\n      <td>0.003000</td>\n    </tr>\n    <tr>\n      <th>1956</th>\n      <td>94.000000</td>\n      <td>6.100000</td>\n      <td>1910.000000</td>\n      <td>NaN</td>\n      <td>54.000000</td>\n      <td>54.000000</td>\n      <td>6.100000</td>\n      <td>1910.000000</td>\n      <td>6.100000</td>\n      <td>6.000000</td>\n      <td>...</td>\n      <td>4.277600e+06</td>\n      <td>449.869995</td>\n      <td>3101.640000</td>\n      <td>3120.000000</td>\n      <td>3093.510000</td>\n      <td>3115.340000</td>\n      <td>3115.340000</td>\n      <td>4.429030e+09</td>\n      <td>0.059400</td>\n      <td>0.009000</td>\n    </tr>\n    <tr>\n      <th>1958</th>\n      <td>98.500000</td>\n      <td>6.450000</td>\n      <td>9714.000000</td>\n      <td>82.000000</td>\n      <td>73.500000</td>\n      <td>40.000000</td>\n      <td>6.450000</td>\n      <td>9714.000000</td>\n      <td>6.650000</td>\n      <td>6.500000</td>\n      <td>...</td>\n      <td>5.594300e+06</td>\n      <td>286.809998</td>\n      <td>3050.720000</td>\n      <td>3066.950000</td>\n      <td>3050.720000</td>\n      <td>3066.910000</td>\n      <td>3066.910000</td>\n      <td>3.930200e+09</td>\n      <td>0.957000</td>\n      <td>0.005000</td>\n    </tr>\n    <tr>\n      <th>1960</th>\n      <td>167.000000</td>\n      <td>7.400000</td>\n      <td>407.000000</td>\n      <td>NaN</td>\n      <td>7.000000</td>\n      <td>2.000000</td>\n      <td>7.400000</td>\n      <td>407.000000</td>\n      <td>7.500000</td>\n      <td>8.000000</td>\n      <td>...</td>\n      <td>3.713300e+06</td>\n      <td>323.570007</td>\n      <td>3215.180000</td>\n      <td>3231.720000</td>\n      <td>3212.030000</td>\n      <td>3230.780000</td>\n      <td>3230.780000</td>\n      <td>2.893810e+09</td>\n      <td>0.293700</td>\n      <td>0.006000</td>\n    </tr>\n    <tr>\n      <th>1962</th>\n      <td>145.000000</td>\n      <td>7.250000</td>\n      <td>70821.000000</td>\n      <td>62.500000</td>\n      <td>246.500000</td>\n      <td>82.500000</td>\n      <td>7.250000</td>\n      <td>70821.000000</td>\n      <td>7.350000</td>\n      <td>7.500000</td>\n      <td>...</td>\n      <td>5.594300e+06</td>\n      <td>286.809998</td>\n      <td>3050.720000</td>\n      <td>3066.950000</td>\n      <td>3050.720000</td>\n      <td>3066.910000</td>\n      <td>3066.910000</td>\n      <td>3.930200e+09</td>\n      <td>0.957000</td>\n      <td>0.005000</td>\n    </tr>\n    <tr>\n      <th>1964</th>\n      <td>204.000000</td>\n      <td>7.650000</td>\n      <td>43156.500000</td>\n      <td>95.000000</td>\n      <td>170.500000</td>\n      <td>47.500000</td>\n      <td>7.650000</td>\n      <td>43156.500000</td>\n      <td>7.750000</td>\n      <td>8.000000</td>\n      <td>...</td>\n      <td>3.825950e+06</td>\n      <td>431.494995</td>\n      <td>3603.980000</td>\n      <td>3626.175000</td>\n      <td>3602.405000</td>\n      <td>3625.325000</td>\n      <td>3625.325000</td>\n      <td>3.522525e+09</td>\n      <td>0.731200</td>\n      <td>0.006500</td>\n    </tr>\n    <tr>\n      <th>1969</th>\n      <td>138.000000</td>\n      <td>4.200000</td>\n      <td>1870.000000</td>\n      <td>NaN</td>\n      <td>24.000000</td>\n      <td>5.000000</td>\n      <td>4.200000</td>\n      <td>1870.000000</td>\n      <td>4.900000</td>\n      <td>5.000000</td>\n      <td>...</td>\n      <td>3.896300e+06</td>\n      <td>162.990005</td>\n      <td>2415.650000</td>\n      <td>2430.060000</td>\n      <td>2413.540000</td>\n      <td>2430.060000</td>\n      <td>2430.060000</td>\n      <td>3.857140e+09</td>\n      <td>0.751400</td>\n      <td>0.007000</td>\n    </tr>\n    <tr>\n      <th>1970</th>\n      <td>104.000000</td>\n      <td>6.400000</td>\n      <td>1598.000000</td>\n      <td>50.000000</td>\n      <td>12.000000</td>\n      <td>13.000000</td>\n      <td>6.400000</td>\n      <td>1598.000000</td>\n      <td>6.700000</td>\n      <td>7.000000</td>\n      <td>...</td>\n      <td>4.277600e+06</td>\n      <td>449.869995</td>\n      <td>3101.640000</td>\n      <td>3120.000000</td>\n      <td>3093.510000</td>\n      <td>3115.340000</td>\n      <td>3115.340000</td>\n      <td>4.429030e+09</td>\n      <td>0.059400</td>\n      <td>0.009000</td>\n    </tr>\n    <tr>\n      <th>1972</th>\n      <td>123.666667</td>\n      <td>7.233333</td>\n      <td>3661.000000</td>\n      <td>52.000000</td>\n      <td>51.666667</td>\n      <td>21.666667</td>\n      <td>7.233333</td>\n      <td>3661.000000</td>\n      <td>7.366667</td>\n      <td>7.666667</td>\n      <td>...</td>\n      <td>4.340300e+06</td>\n      <td>311.316671</td>\n      <td>3160.360000</td>\n      <td>3176.796667</td>\n      <td>3158.260000</td>\n      <td>3176.156667</td>\n      <td>3176.156667</td>\n      <td>3.239273e+09</td>\n      <td>0.514800</td>\n      <td>0.005667</td>\n    </tr>\n    <tr>\n      <th>1973</th>\n      <td>147.000000</td>\n      <td>6.100000</td>\n      <td>10813.500000</td>\n      <td>54.000000</td>\n      <td>94.666667</td>\n      <td>99.500000</td>\n      <td>6.100000</td>\n      <td>10813.500000</td>\n      <td>6.900000</td>\n      <td>7.000000</td>\n      <td>...</td>\n      <td>3.713300e+06</td>\n      <td>323.570007</td>\n      <td>3215.180000</td>\n      <td>3231.720000</td>\n      <td>3212.030000</td>\n      <td>3230.780000</td>\n      <td>3230.780000</td>\n      <td>2.893810e+09</td>\n      <td>0.293700</td>\n      <td>0.006000</td>\n    </tr>\n    <tr>\n      <th>1974</th>\n      <td>134.000000</td>\n      <td>7.100000</td>\n      <td>393.500000</td>\n      <td>NaN</td>\n      <td>6.500000</td>\n      <td>NaN</td>\n      <td>7.100000</td>\n      <td>393.500000</td>\n      <td>7.400000</td>\n      <td>8.000000</td>\n      <td>...</td>\n      <td>3.763150e+06</td>\n      <td>249.155006</td>\n      <td>2844.800000</td>\n      <td>2856.050000</td>\n      <td>2842.940000</td>\n      <td>2853.665000</td>\n      <td>2853.665000</td>\n      <td>2.802270e+09</td>\n      <td>0.245800</td>\n      <td>0.004500</td>\n    </tr>\n    <tr>\n      <th>1975</th>\n      <td>120.000000</td>\n      <td>7.800000</td>\n      <td>6057.000000</td>\n      <td>NaN</td>\n      <td>11.000000</td>\n      <td>4.000000</td>\n      <td>7.800000</td>\n      <td>6057.000000</td>\n      <td>7.850000</td>\n      <td>8.000000</td>\n      <td>...</td>\n      <td>6.181800e+06</td>\n      <td>296.574997</td>\n      <td>3099.435000</td>\n      <td>3112.125000</td>\n      <td>3075.365000</td>\n      <td>3085.515000</td>\n      <td>3085.515000</td>\n      <td>3.225925e+09</td>\n      <td>-0.473700</td>\n      <td>0.012000</td>\n    </tr>\n    <tr>\n      <th>1976</th>\n      <td>130.571429</td>\n      <td>6.700000</td>\n      <td>80764.000000</td>\n      <td>70.000000</td>\n      <td>117.571429</td>\n      <td>32.857143</td>\n      <td>6.700000</td>\n      <td>80764.000000</td>\n      <td>7.014286</td>\n      <td>7.000000</td>\n      <td>...</td>\n      <td>5.472114e+06</td>\n      <td>311.322859</td>\n      <td>3067.537143</td>\n      <td>3091.158571</td>\n      <td>3051.598571</td>\n      <td>3065.151429</td>\n      <td>3065.151429</td>\n      <td>3.990703e+09</td>\n      <td>-0.031843</td>\n      <td>0.013000</td>\n    </tr>\n    <tr>\n      <th>1977</th>\n      <td>151.500000</td>\n      <td>6.325000</td>\n      <td>2099.500000</td>\n      <td>NaN</td>\n      <td>11.000000</td>\n      <td>6.333333</td>\n      <td>6.325000</td>\n      <td>2099.500000</td>\n      <td>6.925000</td>\n      <td>7.000000</td>\n      <td>...</td>\n      <td>3.713300e+06</td>\n      <td>323.570007</td>\n      <td>3215.180000</td>\n      <td>3231.720000</td>\n      <td>3212.030000</td>\n      <td>3230.780000</td>\n      <td>3230.780000</td>\n      <td>2.893810e+09</td>\n      <td>0.293700</td>\n      <td>0.006000</td>\n    </tr>\n    <tr>\n      <th>1979</th>\n      <td>114.666667</td>\n      <td>7.466667</td>\n      <td>68347.000000</td>\n      <td>61.000000</td>\n      <td>86.666667</td>\n      <td>32.333333</td>\n      <td>7.466667</td>\n      <td>68347.000000</td>\n      <td>7.566667</td>\n      <td>7.666667</td>\n      <td>...</td>\n      <td>4.663267e+06</td>\n      <td>322.213338</td>\n      <td>3136.893333</td>\n      <td>3159.010000</td>\n      <td>3123.096667</td>\n      <td>3138.373333</td>\n      <td>3138.373333</td>\n      <td>3.516640e+09</td>\n      <td>-0.106900</td>\n      <td>0.011667</td>\n    </tr>\n    <tr>\n      <th>1980</th>\n      <td>108.000000</td>\n      <td>5.950000</td>\n      <td>5184.000000</td>\n      <td>NaN</td>\n      <td>52.500000</td>\n      <td>10.000000</td>\n      <td>5.950000</td>\n      <td>5184.000000</td>\n      <td>7.750000</td>\n      <td>8.000000</td>\n      <td>...</td>\n      <td>5.640400e+06</td>\n      <td>427.144989</td>\n      <td>3354.420000</td>\n      <td>3367.070000</td>\n      <td>3315.980000</td>\n      <td>3328.850000</td>\n      <td>3328.850000</td>\n      <td>3.490005e+09</td>\n      <td>-0.683200</td>\n      <td>0.015000</td>\n    </tr>\n    <tr>\n      <th>1981</th>\n      <td>118.600000</td>\n      <td>6.860000</td>\n      <td>1508.800000</td>\n      <td>55.000000</td>\n      <td>14.600000</td>\n      <td>4.400000</td>\n      <td>6.860000</td>\n      <td>1508.800000</td>\n      <td>7.120000</td>\n      <td>7.000000</td>\n      <td>...</td>\n      <td>4.259520e+06</td>\n      <td>399.219992</td>\n      <td>3579.044000</td>\n      <td>3591.762000</td>\n      <td>3562.462000</td>\n      <td>3577.498000</td>\n      <td>3577.498000</td>\n      <td>4.479912e+09</td>\n      <td>-0.095560</td>\n      <td>0.009000</td>\n    </tr>\n    <tr>\n      <th>1982</th>\n      <td>137.666667</td>\n      <td>7.150000</td>\n      <td>29625.500000</td>\n      <td>57.000000</td>\n      <td>48.833333</td>\n      <td>21.000000</td>\n      <td>7.150000</td>\n      <td>29625.500000</td>\n      <td>7.350000</td>\n      <td>7.500000</td>\n      <td>...</td>\n      <td>4.467917e+06</td>\n      <td>358.931671</td>\n      <td>3223.510000</td>\n      <td>3248.386667</td>\n      <td>3215.493333</td>\n      <td>3235.150000</td>\n      <td>3235.150000</td>\n      <td>3.294418e+09</td>\n      <td>0.313633</td>\n      <td>0.010167</td>\n    </tr>\n    <tr>\n      <th>1983</th>\n      <td>153.000000</td>\n      <td>8.400000</td>\n      <td>3197.000000</td>\n      <td>NaN</td>\n      <td>25.000000</td>\n      <td>2.000000</td>\n      <td>8.400000</td>\n      <td>3197.000000</td>\n      <td>8.500000</td>\n      <td>9.000000</td>\n      <td>...</td>\n      <td>3.713300e+06</td>\n      <td>323.570007</td>\n      <td>3215.180000</td>\n      <td>3231.720000</td>\n      <td>3212.030000</td>\n      <td>3230.780000</td>\n      <td>3230.780000</td>\n      <td>2.893810e+09</td>\n      <td>0.293700</td>\n      <td>0.006000</td>\n    </tr>\n    <tr>\n      <th>1984</th>\n      <td>150.333333</td>\n      <td>6.900000</td>\n      <td>202.666667</td>\n      <td>NaN</td>\n      <td>2.000000</td>\n      <td>1.500000</td>\n      <td>6.900000</td>\n      <td>202.666667</td>\n      <td>7.266667</td>\n      <td>7.666667</td>\n      <td>...</td>\n      <td>5.719333e+06</td>\n      <td>300.966660</td>\n      <td>2490.193333</td>\n      <td>2508.626667</td>\n      <td>2456.276667</td>\n      <td>2472.516667</td>\n      <td>2472.516667</td>\n      <td>4.868843e+09</td>\n      <td>-3.012767</td>\n      <td>0.021000</td>\n    </tr>\n    <tr>\n      <th>1985</th>\n      <td>125.000000</td>\n      <td>7.175000</td>\n      <td>47280.500000</td>\n      <td>40.000000</td>\n      <td>102.500000</td>\n      <td>29.500000</td>\n      <td>7.175000</td>\n      <td>47280.500000</td>\n      <td>7.350000</td>\n      <td>7.750000</td>\n      <td>...</td>\n      <td>4.136625e+06</td>\n      <td>372.882507</td>\n      <td>3454.885000</td>\n      <td>3476.697500</td>\n      <td>3444.537500</td>\n      <td>3461.055000</td>\n      <td>3461.055000</td>\n      <td>3.321035e+09</td>\n      <td>0.069075</td>\n      <td>0.010000</td>\n    </tr>\n    <tr>\n      <th>1986</th>\n      <td>123.500000</td>\n      <td>6.000000</td>\n      <td>169.500000</td>\n      <td>NaN</td>\n      <td>2.000000</td>\n      <td>9.000000</td>\n      <td>6.000000</td>\n      <td>169.500000</td>\n      <td>6.050000</td>\n      <td>6.500000</td>\n      <td>...</td>\n      <td>5.306750e+06</td>\n      <td>385.305000</td>\n      <td>3587.505000</td>\n      <td>3594.380000</td>\n      <td>3583.060000</td>\n      <td>3587.795000</td>\n      <td>3587.795000</td>\n      <td>3.103990e+09</td>\n      <td>0.289400</td>\n      <td>0.003000</td>\n    </tr>\n    <tr>\n      <th>1990</th>\n      <td>154.555556</td>\n      <td>6.688889</td>\n      <td>18580.777778</td>\n      <td>55.000000</td>\n      <td>60.666667</td>\n      <td>17.125000</td>\n      <td>6.688889</td>\n      <td>18580.777778</td>\n      <td>6.955556</td>\n      <td>6.888889</td>\n      <td>...</td>\n      <td>5.060400e+06</td>\n      <td>380.173333</td>\n      <td>3093.026667</td>\n      <td>3120.630000</td>\n      <td>3076.394444</td>\n      <td>3098.457778</td>\n      <td>3098.457778</td>\n      <td>3.899031e+09</td>\n      <td>-0.637700</td>\n      <td>0.015000</td>\n    </tr>\n    <tr>\n      <th>1991</th>\n      <td>127.000000</td>\n      <td>5.400000</td>\n      <td>1861.750000</td>\n      <td>NaN</td>\n      <td>6.250000</td>\n      <td>5.000000</td>\n      <td>5.400000</td>\n      <td>1861.750000</td>\n      <td>6.150000</td>\n      <td>6.250000</td>\n      <td>...</td>\n      <td>5.147025e+06</td>\n      <td>286.922497</td>\n      <td>3116.857500</td>\n      <td>3123.015000</td>\n      <td>3113.580000</td>\n      <td>3119.647500</td>\n      <td>3119.647500</td>\n      <td>3.105070e+09</td>\n      <td>0.418500</td>\n      <td>0.003000</td>\n    </tr>\n    <tr>\n      <th>1992</th>\n      <td>149.000000</td>\n      <td>6.800000</td>\n      <td>87893.000000</td>\n      <td>41.000000</td>\n      <td>178.000000</td>\n      <td>129.000000</td>\n      <td>6.800000</td>\n      <td>87893.000000</td>\n      <td>7.200000</td>\n      <td>7.000000</td>\n      <td>...</td>\n      <td>6.562850e+06</td>\n      <td>343.765007</td>\n      <td>2889.925000</td>\n      <td>2900.615000</td>\n      <td>2877.665000</td>\n      <td>2891.560000</td>\n      <td>2891.560000</td>\n      <td>3.772065e+09</td>\n      <td>0.500950</td>\n      <td>0.007500</td>\n    </tr>\n    <tr>\n      <th>1993</th>\n      <td>143.000000</td>\n      <td>7.000000</td>\n      <td>73487.000000</td>\n      <td>66.000000</td>\n      <td>104.000000</td>\n      <td>43.000000</td>\n      <td>7.000000</td>\n      <td>73487.000000</td>\n      <td>7.033333</td>\n      <td>7.333333</td>\n      <td>...</td>\n      <td>6.112533e+06</td>\n      <td>367.586660</td>\n      <td>2655.856667</td>\n      <td>2674.476667</td>\n      <td>2615.733333</td>\n      <td>2635.110000</td>\n      <td>2635.110000</td>\n      <td>5.136357e+09</td>\n      <td>-2.824933</td>\n      <td>0.023000</td>\n    </tr>\n    <tr>\n      <th>1994</th>\n      <td>138.400000</td>\n      <td>6.860000</td>\n      <td>15402.800000</td>\n      <td>NaN</td>\n      <td>39.400000</td>\n      <td>4.600000</td>\n      <td>6.860000</td>\n      <td>15402.800000</td>\n      <td>7.380000</td>\n      <td>8.000000</td>\n      <td>...</td>\n      <td>6.586200e+06</td>\n      <td>373.105998</td>\n      <td>3309.174000</td>\n      <td>3321.910000</td>\n      <td>3302.054000</td>\n      <td>3312.878000</td>\n      <td>3312.878000</td>\n      <td>3.557150e+09</td>\n      <td>0.135260</td>\n      <td>0.006400</td>\n    </tr>\n    <tr>\n      <th>1995</th>\n      <td>127.700000</td>\n      <td>6.040000</td>\n      <td>64363.300000</td>\n      <td>47.800000</td>\n      <td>139.500000</td>\n      <td>48.125000</td>\n      <td>6.040000</td>\n      <td>64363.300000</td>\n      <td>6.620000</td>\n      <td>6.600000</td>\n      <td>...</td>\n      <td>5.281250e+06</td>\n      <td>359.861993</td>\n      <td>3405.054000</td>\n      <td>3419.808000</td>\n      <td>3385.634000</td>\n      <td>3398.142000</td>\n      <td>3398.142000</td>\n      <td>3.404255e+09</td>\n      <td>-0.184010</td>\n      <td>0.010800</td>\n    </tr>\n    <tr>\n      <th>1996</th>\n      <td>131.000000</td>\n      <td>6.066667</td>\n      <td>143549.166667</td>\n      <td>67.500000</td>\n      <td>200.000000</td>\n      <td>86.500000</td>\n      <td>6.066667</td>\n      <td>143549.166667</td>\n      <td>6.650000</td>\n      <td>6.666667</td>\n      <td>...</td>\n      <td>7.551650e+06</td>\n      <td>309.519999</td>\n      <td>3111.795000</td>\n      <td>3122.290000</td>\n      <td>3101.331667</td>\n      <td>3108.200000</td>\n      <td>3108.200000</td>\n      <td>3.401472e+09</td>\n      <td>0.079583</td>\n      <td>0.006667</td>\n    </tr>\n    <tr>\n      <th>1997</th>\n      <td>127.100000</td>\n      <td>6.155000</td>\n      <td>42732.450000</td>\n      <td>65.200000</td>\n      <td>147.611111</td>\n      <td>48.388889</td>\n      <td>6.155000</td>\n      <td>42732.450000</td>\n      <td>6.445000</td>\n      <td>6.450000</td>\n      <td>...</td>\n      <td>5.766065e+06</td>\n      <td>384.991998</td>\n      <td>3323.876500</td>\n      <td>3335.727000</td>\n      <td>3306.848000</td>\n      <td>3318.178500</td>\n      <td>3318.178500</td>\n      <td>4.047386e+09</td>\n      <td>-0.081755</td>\n      <td>0.009350</td>\n    </tr>\n    <tr>\n      <th>1998</th>\n      <td>119.250000</td>\n      <td>6.237500</td>\n      <td>137226.500000</td>\n      <td>54.500000</td>\n      <td>274.500000</td>\n      <td>47.500000</td>\n      <td>6.237500</td>\n      <td>137226.500000</td>\n      <td>6.537500</td>\n      <td>6.375000</td>\n      <td>...</td>\n      <td>6.236950e+06</td>\n      <td>377.822496</td>\n      <td>3110.346250</td>\n      <td>3127.841250</td>\n      <td>3094.318750</td>\n      <td>3118.836250</td>\n      <td>3118.836250</td>\n      <td>4.102192e+09</td>\n      <td>-0.104050</td>\n      <td>0.010750</td>\n    </tr>\n    <tr>\n      <th>1999</th>\n      <td>127.538462</td>\n      <td>6.153846</td>\n      <td>7158.692308</td>\n      <td>60.666667</td>\n      <td>50.307692</td>\n      <td>18.666667</td>\n      <td>6.153846</td>\n      <td>7158.692308</td>\n      <td>6.376923</td>\n      <td>6.384615</td>\n      <td>...</td>\n      <td>5.978531e+06</td>\n      <td>425.909231</td>\n      <td>3524.853846</td>\n      <td>3535.856923</td>\n      <td>3488.900769</td>\n      <td>3506.143846</td>\n      <td>3506.143846</td>\n      <td>4.144569e+09</td>\n      <td>-0.400085</td>\n      <td>0.014077</td>\n    </tr>\n    <tr>\n      <th>2000</th>\n      <td>133.900000</td>\n      <td>5.780000</td>\n      <td>49080.000000</td>\n      <td>53.600000</td>\n      <td>323.300000</td>\n      <td>89.333333</td>\n      <td>5.780000</td>\n      <td>49080.000000</td>\n      <td>6.070000</td>\n      <td>6.200000</td>\n      <td>...</td>\n      <td>6.987750e+06</td>\n      <td>385.431000</td>\n      <td>3273.724000</td>\n      <td>3291.087000</td>\n      <td>3253.861000</td>\n      <td>3272.169000</td>\n      <td>3272.169000</td>\n      <td>3.637838e+09</td>\n      <td>-0.085760</td>\n      <td>0.013000</td>\n    </tr>\n    <tr>\n      <th>2001</th>\n      <td>123.900000</td>\n      <td>6.430000</td>\n      <td>97703.100000</td>\n      <td>62.428571</td>\n      <td>282.600000</td>\n      <td>87.900000</td>\n      <td>6.430000</td>\n      <td>97703.100000</td>\n      <td>6.710000</td>\n      <td>6.700000</td>\n      <td>...</td>\n      <td>5.441320e+06</td>\n      <td>374.248996</td>\n      <td>3362.610000</td>\n      <td>3378.366000</td>\n      <td>3349.651000</td>\n      <td>3366.174000</td>\n      <td>3366.174000</td>\n      <td>3.617425e+09</td>\n      <td>0.341160</td>\n      <td>0.008700</td>\n    </tr>\n    <tr>\n      <th>2002</th>\n      <td>120.000000</td>\n      <td>6.305556</td>\n      <td>69794.444444</td>\n      <td>55.000000</td>\n      <td>216.888889</td>\n      <td>60.411765</td>\n      <td>6.305556</td>\n      <td>69794.444444</td>\n      <td>6.527778</td>\n      <td>6.611111</td>\n      <td>...</td>\n      <td>8.112928e+06</td>\n      <td>387.588331</td>\n      <td>3236.351667</td>\n      <td>3257.060000</td>\n      <td>3215.461667</td>\n      <td>3233.746111</td>\n      <td>3233.746111</td>\n      <td>3.766637e+09</td>\n      <td>-0.147000</td>\n      <td>0.013722</td>\n    </tr>\n    <tr>\n      <th>2003</th>\n      <td>129.750000</td>\n      <td>6.230000</td>\n      <td>45744.900000</td>\n      <td>47.800000</td>\n      <td>148.100000</td>\n      <td>45.200000</td>\n      <td>6.230000</td>\n      <td>45744.900000</td>\n      <td>6.485000</td>\n      <td>6.500000</td>\n      <td>...</td>\n      <td>6.596460e+06</td>\n      <td>397.516998</td>\n      <td>3402.157500</td>\n      <td>3417.400000</td>\n      <td>3382.468000</td>\n      <td>3398.292500</td>\n      <td>3398.292500</td>\n      <td>3.545187e+09</td>\n      <td>-0.103825</td>\n      <td>0.011500</td>\n    </tr>\n    <tr>\n      <th>2004</th>\n      <td>116.551724</td>\n      <td>6.393103</td>\n      <td>48534.379310</td>\n      <td>60.444444</td>\n      <td>130.642857</td>\n      <td>47.555556</td>\n      <td>6.393103</td>\n      <td>48534.379310</td>\n      <td>6.655172</td>\n      <td>6.637931</td>\n      <td>...</td>\n      <td>7.988086e+06</td>\n      <td>377.371727</td>\n      <td>3204.820000</td>\n      <td>3219.761379</td>\n      <td>3179.610000</td>\n      <td>3195.473448</td>\n      <td>3195.473448</td>\n      <td>3.988848e+09</td>\n      <td>-0.287428</td>\n      <td>0.013759</td>\n    </tr>\n    <tr>\n      <th>2005</th>\n      <td>130.200000</td>\n      <td>6.075000</td>\n      <td>20100.600000</td>\n      <td>43.800000</td>\n      <td>89.200000</td>\n      <td>34.100000</td>\n      <td>6.075000</td>\n      <td>20100.600000</td>\n      <td>6.410000</td>\n      <td>6.500000</td>\n      <td>...</td>\n      <td>6.374885e+06</td>\n      <td>386.961995</td>\n      <td>3206.551000</td>\n      <td>3220.247500</td>\n      <td>3178.789000</td>\n      <td>3194.371000</td>\n      <td>3194.371000</td>\n      <td>4.067275e+09</td>\n      <td>-0.495735</td>\n      <td>0.013550</td>\n    </tr>\n    <tr>\n      <th>2006</th>\n      <td>122.407407</td>\n      <td>6.551852</td>\n      <td>55009.740741</td>\n      <td>56.000000</td>\n      <td>336.400000</td>\n      <td>87.192308</td>\n      <td>6.551852</td>\n      <td>55009.740741</td>\n      <td>6.829630</td>\n      <td>7.000000</td>\n      <td>...</td>\n      <td>5.757730e+06</td>\n      <td>402.946666</td>\n      <td>3258.545556</td>\n      <td>3276.265556</td>\n      <td>3243.317407</td>\n      <td>3263.239259</td>\n      <td>3263.239259</td>\n      <td>3.941407e+09</td>\n      <td>0.281478</td>\n      <td>0.010259</td>\n    </tr>\n    <tr>\n      <th>2007</th>\n      <td>128.222222</td>\n      <td>6.537037</td>\n      <td>77135.740741</td>\n      <td>58.666667</td>\n      <td>237.423077</td>\n      <td>96.347826</td>\n      <td>6.537037</td>\n      <td>77135.740741</td>\n      <td>6.877778</td>\n      <td>7.000000</td>\n      <td>...</td>\n      <td>7.963359e+06</td>\n      <td>361.778153</td>\n      <td>3088.204074</td>\n      <td>3104.433333</td>\n      <td>3069.713704</td>\n      <td>3087.773704</td>\n      <td>3087.773704</td>\n      <td>3.876475e+09</td>\n      <td>0.115537</td>\n      <td>0.011889</td>\n    </tr>\n    <tr>\n      <th>2008</th>\n      <td>112.722222</td>\n      <td>6.144444</td>\n      <td>77634.694444</td>\n      <td>61.833333</td>\n      <td>204.657143</td>\n      <td>90.303030</td>\n      <td>6.144444</td>\n      <td>77634.694444</td>\n      <td>6.422222</td>\n      <td>6.486111</td>\n      <td>...</td>\n      <td>7.320661e+06</td>\n      <td>369.512494</td>\n      <td>3127.035833</td>\n      <td>3141.890000</td>\n      <td>3111.401111</td>\n      <td>3128.559167</td>\n      <td>3128.559167</td>\n      <td>4.011985e+09</td>\n      <td>0.117467</td>\n      <td>0.009944</td>\n    </tr>\n    <tr>\n      <th>2009</th>\n      <td>114.928571</td>\n      <td>6.519048</td>\n      <td>72425.119048</td>\n      <td>62.937500</td>\n      <td>215.560976</td>\n      <td>105.256410</td>\n      <td>6.519048</td>\n      <td>72425.119048</td>\n      <td>6.766667</td>\n      <td>6.869048</td>\n      <td>...</td>\n      <td>6.720988e+06</td>\n      <td>370.983329</td>\n      <td>3174.679286</td>\n      <td>3188.061190</td>\n      <td>3164.301905</td>\n      <td>3178.230952</td>\n      <td>3178.230952</td>\n      <td>3.768433e+09</td>\n      <td>0.378229</td>\n      <td>0.007643</td>\n    </tr>\n    <tr>\n      <th>2010</th>\n      <td>112.183333</td>\n      <td>5.983333</td>\n      <td>65210.050000</td>\n      <td>55.318182</td>\n      <td>164.724138</td>\n      <td>99.381818</td>\n      <td>5.983333</td>\n      <td>65210.050000</td>\n      <td>6.320000</td>\n      <td>6.375000</td>\n      <td>...</td>\n      <td>6.768053e+06</td>\n      <td>381.934499</td>\n      <td>3142.725333</td>\n      <td>3167.778000</td>\n      <td>3127.062333</td>\n      <td>3155.089000</td>\n      <td>3155.089000</td>\n      <td>4.015371e+09</td>\n      <td>0.421553</td>\n      <td>0.013683</td>\n    </tr>\n    <tr>\n      <th>2011</th>\n      <td>112.068182</td>\n      <td>6.200000</td>\n      <td>40802.295455</td>\n      <td>58.000000</td>\n      <td>90.166667</td>\n      <td>84.205128</td>\n      <td>6.200000</td>\n      <td>40802.295455</td>\n      <td>6.509091</td>\n      <td>6.579545</td>\n      <td>...</td>\n      <td>5.802095e+06</td>\n      <td>379.639090</td>\n      <td>3229.926591</td>\n      <td>3251.198864</td>\n      <td>3220.677727</td>\n      <td>3243.498636</td>\n      <td>3243.498636</td>\n      <td>3.789555e+09</td>\n      <td>0.402236</td>\n      <td>0.009636</td>\n    </tr>\n    <tr>\n      <th>2012</th>\n      <td>111.569620</td>\n      <td>5.901266</td>\n      <td>32128.227848</td>\n      <td>58.900000</td>\n      <td>226.946667</td>\n      <td>74.763889</td>\n      <td>5.901266</td>\n      <td>32128.227848</td>\n      <td>6.246835</td>\n      <td>6.379747</td>\n      <td>...</td>\n      <td>7.680435e+06</td>\n      <td>361.243634</td>\n      <td>2984.614810</td>\n      <td>3000.427722</td>\n      <td>2970.103165</td>\n      <td>2986.942405</td>\n      <td>2986.942405</td>\n      <td>3.997714e+09</td>\n      <td>0.103746</td>\n      <td>0.010532</td>\n    </tr>\n    <tr>\n      <th>2013</th>\n      <td>115.646154</td>\n      <td>5.963077</td>\n      <td>35592.707692</td>\n      <td>58.304348</td>\n      <td>93.539683</td>\n      <td>95.000000</td>\n      <td>5.963077</td>\n      <td>35592.707692</td>\n      <td>6.295385</td>\n      <td>6.307692</td>\n      <td>...</td>\n      <td>8.512746e+06</td>\n      <td>341.733339</td>\n      <td>2988.820462</td>\n      <td>3007.358769</td>\n      <td>2973.598923</td>\n      <td>2994.088769</td>\n      <td>2994.088769</td>\n      <td>3.968425e+09</td>\n      <td>0.197675</td>\n      <td>0.011385</td>\n    </tr>\n    <tr>\n      <th>2014</th>\n      <td>109.676471</td>\n      <td>5.800000</td>\n      <td>17829.107843</td>\n      <td>49.648649</td>\n      <td>83.865979</td>\n      <td>63.176471</td>\n      <td>5.800000</td>\n      <td>17829.107843</td>\n      <td>6.186275</td>\n      <td>6.274510</td>\n      <td>...</td>\n      <td>9.368505e+06</td>\n      <td>314.370153</td>\n      <td>2899.765882</td>\n      <td>2915.888039</td>\n      <td>2887.861569</td>\n      <td>2902.593333</td>\n      <td>2902.593333</td>\n      <td>3.739284e+09</td>\n      <td>0.012950</td>\n      <td>0.009922</td>\n    </tr>\n    <tr>\n      <th>2015</th>\n      <td>105.159509</td>\n      <td>6.058282</td>\n      <td>25401.858896</td>\n      <td>56.859649</td>\n      <td>86.756250</td>\n      <td>65.743243</td>\n      <td>6.058282</td>\n      <td>25401.858896</td>\n      <td>6.346012</td>\n      <td>6.475460</td>\n      <td>...</td>\n      <td>8.872569e+06</td>\n      <td>283.067869</td>\n      <td>2787.835521</td>\n      <td>2800.092393</td>\n      <td>2773.940982</td>\n      <td>2786.261656</td>\n      <td>2786.261656</td>\n      <td>3.895330e+09</td>\n      <td>-0.088453</td>\n      <td>0.009448</td>\n    </tr>\n    <tr>\n      <th>2016</th>\n      <td>101.034934</td>\n      <td>5.720524</td>\n      <td>10454.131004</td>\n      <td>54.764706</td>\n      <td>55.331858</td>\n      <td>43.635922</td>\n      <td>5.720524</td>\n      <td>10454.131004</td>\n      <td>6.030568</td>\n      <td>6.113537</td>\n      <td>...</td>\n      <td>7.526469e+06</td>\n      <td>250.052445</td>\n      <td>2655.430349</td>\n      <td>2667.032926</td>\n      <td>2644.248952</td>\n      <td>2657.120961</td>\n      <td>2657.120961</td>\n      <td>3.851744e+09</td>\n      <td>0.152030</td>\n      <td>0.008380</td>\n    </tr>\n    <tr>\n      <th>2017</th>\n      <td>103.597510</td>\n      <td>5.868465</td>\n      <td>18888.572614</td>\n      <td>57.974026</td>\n      <td>95.914530</td>\n      <td>46.063063</td>\n      <td>5.868465</td>\n      <td>18888.572614</td>\n      <td>6.202490</td>\n      <td>6.298755</td>\n      <td>...</td>\n      <td>8.094773e+06</td>\n      <td>294.018838</td>\n      <td>2790.542365</td>\n      <td>2802.521494</td>\n      <td>2775.142697</td>\n      <td>2789.528589</td>\n      <td>2789.528589</td>\n      <td>3.719545e+09</td>\n      <td>-0.005718</td>\n      <td>0.009863</td>\n    </tr>\n    <tr>\n      <th>2018</th>\n      <td>104.894410</td>\n      <td>5.780124</td>\n      <td>17676.854037</td>\n      <td>55.693069</td>\n      <td>115.671924</td>\n      <td>41.561644</td>\n      <td>5.780124</td>\n      <td>17676.854037</td>\n      <td>6.161180</td>\n      <td>6.265528</td>\n      <td>...</td>\n      <td>9.746443e+06</td>\n      <td>353.809875</td>\n      <td>2901.631211</td>\n      <td>2917.432329</td>\n      <td>2882.891584</td>\n      <td>2899.159876</td>\n      <td>2899.159876</td>\n      <td>3.952648e+09</td>\n      <td>-0.068862</td>\n      <td>0.012205</td>\n    </tr>\n    <tr>\n      <th>2019</th>\n      <td>103.076046</td>\n      <td>5.672243</td>\n      <td>19813.030418</td>\n      <td>55.390625</td>\n      <td>135.665339</td>\n      <td>33.422131</td>\n      <td>5.672243</td>\n      <td>19813.030418</td>\n      <td>6.076046</td>\n      <td>6.100760</td>\n      <td>...</td>\n      <td>6.694099e+06</td>\n      <td>369.576730</td>\n      <td>3141.940989</td>\n      <td>3160.037985</td>\n      <td>3127.305209</td>\n      <td>3147.803840</td>\n      <td>3147.803840</td>\n      <td>3.969411e+09</td>\n      <td>0.329455</td>\n      <td>0.010848</td>\n    </tr>\n    <tr>\n      <th>2020</th>\n      <td>106.312500</td>\n      <td>5.685417</td>\n      <td>9267.104167</td>\n      <td>58.282051</td>\n      <td>183.446809</td>\n      <td>33.125926</td>\n      <td>5.685417</td>\n      <td>9267.104167</td>\n      <td>6.026389</td>\n      <td>6.059028</td>\n      <td>...</td>\n      <td>6.704456e+06</td>\n      <td>466.972083</td>\n      <td>3311.304444</td>\n      <td>3330.263403</td>\n      <td>3279.652361</td>\n      <td>3303.386667</td>\n      <td>3303.386667</td>\n      <td>4.998714e+09</td>\n      <td>-0.313292</td>\n      <td>0.016632</td>\n    </tr>\n    <tr>\n      <th>2021</th>\n      <td>99.827160</td>\n      <td>5.343210</td>\n      <td>8515.246914</td>\n      <td>51.142857</td>\n      <td>65.068493</td>\n      <td>28.000000</td>\n      <td>5.343210</td>\n      <td>8515.246914</td>\n      <td>5.765432</td>\n      <td>5.765432</td>\n      <td>...</td>\n      <td>4.644052e+06</td>\n      <td>524.697033</td>\n      <td>4176.524321</td>\n      <td>4198.156790</td>\n      <td>4156.363210</td>\n      <td>4179.142222</td>\n      <td>4179.142222</td>\n      <td>4.165996e+09</td>\n      <td>0.117542</td>\n      <td>0.010272</td>\n    </tr>\n  </tbody>\n</table>\n<p>54 rows × 68 columns</p>\n</div>"
     },
     "execution_count": 107,
     "metadata": {},
     "output_type": "execute_result"
    }
   ],
   "source": [
    "mean_df = df.groupby(['release_year']).mean()\n",
    "mean_df"
   ],
   "metadata": {
    "collapsed": false,
    "pycharm": {
     "name": "#%%\n"
    }
   }
  },
  {
   "cell_type": "code",
   "execution_count": 108,
   "outputs": [
    {
     "data": {
      "text/plain": "0       202109\n1       202109\n2       202109\n3       202109\n4       202109\n         ...  \n2168    201611\n2169    201912\n2170    201906\n2171    201508\n2172    201603\nName: year_month_x, Length: 2173, dtype: object"
     },
     "execution_count": 108,
     "metadata": {},
     "output_type": "execute_result"
    }
   ],
   "source": [
    "for idx, col in enumerate(df['Date_x']):\n",
    "    df.at[idx, 'year_month_x'] = col.strftime('%Y%m')\n",
    "\n",
    "df['year_month_x']"
   ],
   "metadata": {
    "collapsed": false,
    "pycharm": {
     "name": "#%%\n"
    }
   }
  },
  {
   "cell_type": "code",
   "execution_count": 109,
   "outputs": [
    {
     "data": {
      "text/plain": "              release_year  duration_y  avg_vote         votes  metascore  \\\nyear_month_x                                                                \n201211         2012.000000   84.000000  5.500000  20039.000000  52.000000   \n201401         2013.000000  128.000000  6.950000  29285.000000  74.000000   \n201504         2014.000000  105.000000  5.500000    105.000000        NaN   \n201506         2015.000000   90.000000  6.200000   4552.000000  59.000000   \n201507         2014.333333   88.333333  5.900000  30799.000000  58.000000   \n...                    ...         ...       ...           ...        ...   \n202105         2017.914286   99.342857  5.834286  10473.371429  55.090909   \n202106         2012.509804  101.529412  5.852941  24826.411765  56.842105   \n202107         2011.741379  104.275862  5.643103  77403.448276  52.322581   \n202108         2011.838710  117.612903  5.500000  10073.903226  52.250000   \n202109         2010.717949  106.589744  5.841026  49328.000000  52.944444   \n\n              reviews_from_users  reviews_from_critics  weighted_average_vote  \\\nyear_month_x                                                                    \n201211                 76.000000            137.000000               5.500000   \n201401                101.500000            178.000000               6.950000   \n201504                  7.000000                   NaN               5.500000   \n201506                 57.000000             22.000000               6.200000   \n201507                193.666667             65.666667               5.900000   \n...                          ...                   ...                    ...   \n202105                 60.857143             40.857143               5.834286   \n202106                 91.562500             50.333333               5.852941   \n202107                293.481481            120.830189               5.643103   \n202108                 41.419355             28.034483               5.500000   \n202109                189.948718             68.717949               5.841026   \n\n               total_votes  mean_vote  ...      Volume_x  Adj Close_x  \\\nyear_month_x                           ...                              \n201211        20039.000000   5.700000  ...  2.691080e+07    11.397143   \n201401        29285.000000   7.000000  ...  1.641710e+07    47.148571   \n201504          105.000000   7.800000  ...  1.045009e+08    80.292854   \n201506         4552.000000   6.400000  ...  1.562610e+07    97.312859   \n201507        30799.000000   6.433333  ...  1.860737e+07   105.017619   \n...                    ...        ...  ...           ...          ...   \n202105        10473.371429   6.165714  ...  3.214889e+06   498.003142   \n202106        24826.411765   6.241176  ...  3.129053e+06   505.298039   \n202107        77403.448276   5.970690  ...  2.910822e+06   533.501197   \n202108        10073.903226   5.951613  ...  3.102661e+06   546.187732   \n202109        49328.000000   6.287179  ...  5.178610e+06   588.277690   \n\n                   Open_y       High_y        Low_y      Close_y  Adj Close_y  \\\nyear_month_x                                                                    \n201211        1374.640000  1380.130000  1352.500000  1355.490000  1355.490000   \n201401        1844.230000  1846.040000  1835.230000  1838.700000  1838.700000   \n201504        2105.960000  2111.300000  2100.020000  2104.990000  2104.990000   \n201506        2123.160000  2128.030000  2119.890000  2124.200000  2124.200000   \n201507        2103.680000  2112.733333  2099.476667  2107.246667  2107.246667   \n...                   ...          ...          ...          ...          ...   \n202105        4164.679143  4189.006571  4148.322286  4172.495143  4172.495143   \n202106        4227.811569  4240.147843  4216.522157  4230.466863  4230.466863   \n202107        4331.880517  4346.803621  4317.165862  4338.032241  4338.032241   \n202108        4451.448387  4479.949677  4446.486129  4472.889032  4472.889032   \n202109        4522.864103  4532.043846  4506.284359  4512.774103  4512.774103   \n\n                  Volume_y  % Gain/Loss (Close)  % Price Variation  \nyear_month_x                                                        \n201211        4.109510e+09            -1.404700           0.020000  \n201401        3.626120e+09            -0.391000           0.006000  \n201504        3.434120e+09            -0.077900           0.005000  \n201506        3.091190e+09             0.063500           0.004000  \n201507        3.228527e+09             0.219633           0.006667  \n...                    ...                  ...                ...  \n202105        3.832081e+09             0.247471           0.009800  \n202106        4.324316e+09             0.133820           0.005804  \n202107        3.131645e+09             0.179483           0.007069  \n202108        2.885228e+09             0.516132           0.007677  \n202109        2.985718e+09            -0.085233           0.005538  \n\n[77 rows x 69 columns]",
      "text/html": "<div>\n<style scoped>\n    .dataframe tbody tr th:only-of-type {\n        vertical-align: middle;\n    }\n\n    .dataframe tbody tr th {\n        vertical-align: top;\n    }\n\n    .dataframe thead th {\n        text-align: right;\n    }\n</style>\n<table border=\"1\" class=\"dataframe\">\n  <thead>\n    <tr style=\"text-align: right;\">\n      <th></th>\n      <th>release_year</th>\n      <th>duration_y</th>\n      <th>avg_vote</th>\n      <th>votes</th>\n      <th>metascore</th>\n      <th>reviews_from_users</th>\n      <th>reviews_from_critics</th>\n      <th>weighted_average_vote</th>\n      <th>total_votes</th>\n      <th>mean_vote</th>\n      <th>...</th>\n      <th>Volume_x</th>\n      <th>Adj Close_x</th>\n      <th>Open_y</th>\n      <th>High_y</th>\n      <th>Low_y</th>\n      <th>Close_y</th>\n      <th>Adj Close_y</th>\n      <th>Volume_y</th>\n      <th>% Gain/Loss (Close)</th>\n      <th>% Price Variation</th>\n    </tr>\n    <tr>\n      <th>year_month_x</th>\n      <th></th>\n      <th></th>\n      <th></th>\n      <th></th>\n      <th></th>\n      <th></th>\n      <th></th>\n      <th></th>\n      <th></th>\n      <th></th>\n      <th></th>\n      <th></th>\n      <th></th>\n      <th></th>\n      <th></th>\n      <th></th>\n      <th></th>\n      <th></th>\n      <th></th>\n      <th></th>\n      <th></th>\n    </tr>\n  </thead>\n  <tbody>\n    <tr>\n      <th>201211</th>\n      <td>2012.000000</td>\n      <td>84.000000</td>\n      <td>5.500000</td>\n      <td>20039.000000</td>\n      <td>52.000000</td>\n      <td>76.000000</td>\n      <td>137.000000</td>\n      <td>5.500000</td>\n      <td>20039.000000</td>\n      <td>5.700000</td>\n      <td>...</td>\n      <td>2.691080e+07</td>\n      <td>11.397143</td>\n      <td>1374.640000</td>\n      <td>1380.130000</td>\n      <td>1352.500000</td>\n      <td>1355.490000</td>\n      <td>1355.490000</td>\n      <td>4.109510e+09</td>\n      <td>-1.404700</td>\n      <td>0.020000</td>\n    </tr>\n    <tr>\n      <th>201401</th>\n      <td>2013.000000</td>\n      <td>128.000000</td>\n      <td>6.950000</td>\n      <td>29285.000000</td>\n      <td>74.000000</td>\n      <td>101.500000</td>\n      <td>178.000000</td>\n      <td>6.950000</td>\n      <td>29285.000000</td>\n      <td>7.000000</td>\n      <td>...</td>\n      <td>1.641710e+07</td>\n      <td>47.148571</td>\n      <td>1844.230000</td>\n      <td>1846.040000</td>\n      <td>1835.230000</td>\n      <td>1838.700000</td>\n      <td>1838.700000</td>\n      <td>3.626120e+09</td>\n      <td>-0.391000</td>\n      <td>0.006000</td>\n    </tr>\n    <tr>\n      <th>201504</th>\n      <td>2014.000000</td>\n      <td>105.000000</td>\n      <td>5.500000</td>\n      <td>105.000000</td>\n      <td>NaN</td>\n      <td>7.000000</td>\n      <td>NaN</td>\n      <td>5.500000</td>\n      <td>105.000000</td>\n      <td>7.800000</td>\n      <td>...</td>\n      <td>1.045009e+08</td>\n      <td>80.292854</td>\n      <td>2105.960000</td>\n      <td>2111.300000</td>\n      <td>2100.020000</td>\n      <td>2104.990000</td>\n      <td>2104.990000</td>\n      <td>3.434120e+09</td>\n      <td>-0.077900</td>\n      <td>0.005000</td>\n    </tr>\n    <tr>\n      <th>201506</th>\n      <td>2015.000000</td>\n      <td>90.000000</td>\n      <td>6.200000</td>\n      <td>4552.000000</td>\n      <td>59.000000</td>\n      <td>57.000000</td>\n      <td>22.000000</td>\n      <td>6.200000</td>\n      <td>4552.000000</td>\n      <td>6.400000</td>\n      <td>...</td>\n      <td>1.562610e+07</td>\n      <td>97.312859</td>\n      <td>2123.160000</td>\n      <td>2128.030000</td>\n      <td>2119.890000</td>\n      <td>2124.200000</td>\n      <td>2124.200000</td>\n      <td>3.091190e+09</td>\n      <td>0.063500</td>\n      <td>0.004000</td>\n    </tr>\n    <tr>\n      <th>201507</th>\n      <td>2014.333333</td>\n      <td>88.333333</td>\n      <td>5.900000</td>\n      <td>30799.000000</td>\n      <td>58.000000</td>\n      <td>193.666667</td>\n      <td>65.666667</td>\n      <td>5.900000</td>\n      <td>30799.000000</td>\n      <td>6.433333</td>\n      <td>...</td>\n      <td>1.860737e+07</td>\n      <td>105.017619</td>\n      <td>2103.680000</td>\n      <td>2112.733333</td>\n      <td>2099.476667</td>\n      <td>2107.246667</td>\n      <td>2107.246667</td>\n      <td>3.228527e+09</td>\n      <td>0.219633</td>\n      <td>0.006667</td>\n    </tr>\n    <tr>\n      <th>...</th>\n      <td>...</td>\n      <td>...</td>\n      <td>...</td>\n      <td>...</td>\n      <td>...</td>\n      <td>...</td>\n      <td>...</td>\n      <td>...</td>\n      <td>...</td>\n      <td>...</td>\n      <td>...</td>\n      <td>...</td>\n      <td>...</td>\n      <td>...</td>\n      <td>...</td>\n      <td>...</td>\n      <td>...</td>\n      <td>...</td>\n      <td>...</td>\n      <td>...</td>\n      <td>...</td>\n    </tr>\n    <tr>\n      <th>202105</th>\n      <td>2017.914286</td>\n      <td>99.342857</td>\n      <td>5.834286</td>\n      <td>10473.371429</td>\n      <td>55.090909</td>\n      <td>60.857143</td>\n      <td>40.857143</td>\n      <td>5.834286</td>\n      <td>10473.371429</td>\n      <td>6.165714</td>\n      <td>...</td>\n      <td>3.214889e+06</td>\n      <td>498.003142</td>\n      <td>4164.679143</td>\n      <td>4189.006571</td>\n      <td>4148.322286</td>\n      <td>4172.495143</td>\n      <td>4172.495143</td>\n      <td>3.832081e+09</td>\n      <td>0.247471</td>\n      <td>0.009800</td>\n    </tr>\n    <tr>\n      <th>202106</th>\n      <td>2012.509804</td>\n      <td>101.529412</td>\n      <td>5.852941</td>\n      <td>24826.411765</td>\n      <td>56.842105</td>\n      <td>91.562500</td>\n      <td>50.333333</td>\n      <td>5.852941</td>\n      <td>24826.411765</td>\n      <td>6.241176</td>\n      <td>...</td>\n      <td>3.129053e+06</td>\n      <td>505.298039</td>\n      <td>4227.811569</td>\n      <td>4240.147843</td>\n      <td>4216.522157</td>\n      <td>4230.466863</td>\n      <td>4230.466863</td>\n      <td>4.324316e+09</td>\n      <td>0.133820</td>\n      <td>0.005804</td>\n    </tr>\n    <tr>\n      <th>202107</th>\n      <td>2011.741379</td>\n      <td>104.275862</td>\n      <td>5.643103</td>\n      <td>77403.448276</td>\n      <td>52.322581</td>\n      <td>293.481481</td>\n      <td>120.830189</td>\n      <td>5.643103</td>\n      <td>77403.448276</td>\n      <td>5.970690</td>\n      <td>...</td>\n      <td>2.910822e+06</td>\n      <td>533.501197</td>\n      <td>4331.880517</td>\n      <td>4346.803621</td>\n      <td>4317.165862</td>\n      <td>4338.032241</td>\n      <td>4338.032241</td>\n      <td>3.131645e+09</td>\n      <td>0.179483</td>\n      <td>0.007069</td>\n    </tr>\n    <tr>\n      <th>202108</th>\n      <td>2011.838710</td>\n      <td>117.612903</td>\n      <td>5.500000</td>\n      <td>10073.903226</td>\n      <td>52.250000</td>\n      <td>41.419355</td>\n      <td>28.034483</td>\n      <td>5.500000</td>\n      <td>10073.903226</td>\n      <td>5.951613</td>\n      <td>...</td>\n      <td>3.102661e+06</td>\n      <td>546.187732</td>\n      <td>4451.448387</td>\n      <td>4479.949677</td>\n      <td>4446.486129</td>\n      <td>4472.889032</td>\n      <td>4472.889032</td>\n      <td>2.885228e+09</td>\n      <td>0.516132</td>\n      <td>0.007677</td>\n    </tr>\n    <tr>\n      <th>202109</th>\n      <td>2010.717949</td>\n      <td>106.589744</td>\n      <td>5.841026</td>\n      <td>49328.000000</td>\n      <td>52.944444</td>\n      <td>189.948718</td>\n      <td>68.717949</td>\n      <td>5.841026</td>\n      <td>49328.000000</td>\n      <td>6.287179</td>\n      <td>...</td>\n      <td>5.178610e+06</td>\n      <td>588.277690</td>\n      <td>4522.864103</td>\n      <td>4532.043846</td>\n      <td>4506.284359</td>\n      <td>4512.774103</td>\n      <td>4512.774103</td>\n      <td>2.985718e+09</td>\n      <td>-0.085233</td>\n      <td>0.005538</td>\n    </tr>\n  </tbody>\n</table>\n<p>77 rows × 69 columns</p>\n</div>"
     },
     "execution_count": 109,
     "metadata": {},
     "output_type": "execute_result"
    }
   ],
   "source": [
    "date_df = df.groupby('year_month_x').mean()\n",
    "date_df"
   ],
   "metadata": {
    "collapsed": false,
    "pycharm": {
     "name": "#%%\n"
    }
   }
  },
  {
   "cell_type": "code",
   "execution_count": 114,
   "outputs": [
    {
     "data": {
      "text/plain": "              type  title  director_x  cast  country_x  date_added  \\\nyear_month_x                                                         \n201211           1      1           1     1          1           1   \n201401           2      2           2     2          2           2   \n201504           1      1           0     1          1           1   \n201506           1      1           1     1          1           1   \n201507           3      3           2     3          3           3   \n...            ...    ...         ...   ...        ...         ...   \n202105          35     35          22    30         28          35   \n202106          51     51          46    51         36          51   \n202107          58     58          47    58         52          58   \n202108          31     31          24    31         25          31   \n202109          39     39          32    39         36          39   \n\n              release_year  rating  duration_x  listed_in  ...  Adj Close_x  \\\nyear_month_x                                               ...                \n201211                   1       1           1          1  ...            1   \n201401                   2       2           2          2  ...            2   \n201504                   1       1           1          1  ...            1   \n201506                   1       1           1          1  ...            1   \n201507                   3       3           3          3  ...            3   \n...                    ...     ...         ...        ...  ...          ...   \n202105                  35      35          35         35  ...           35   \n202106                  51      51          51         51  ...           51   \n202107                  58      58          58         58  ...           58   \n202108                  31      31          31         31  ...           31   \n202109                  39      39          39         39  ...           39   \n\n              Date_y  Open_y  High_y  Low_y  Close_y  Adj Close_y  Volume_y  \\\nyear_month_x                                                                  \n201211             1       1       1      1        1            1         1   \n201401             2       2       2      2        2            2         2   \n201504             1       1       1      1        1            1         1   \n201506             1       1       1      1        1            1         1   \n201507             3       3       3      3        3            3         3   \n...              ...     ...     ...    ...      ...          ...       ...   \n202105            35      35      35     35       35           35        35   \n202106            51      51      51     51       51           51        51   \n202107            58      58      58     58       58           58        58   \n202108            31      31      31     31       31           31        31   \n202109            39      39      39     39       39           39        39   \n\n              % Gain/Loss (Close)  % Price Variation  \nyear_month_x                                          \n201211                          1                  1  \n201401                          2                  2  \n201504                          1                  1  \n201506                          1                  1  \n201507                          3                  3  \n...                           ...                ...  \n202105                         35                 35  \n202106                         51                 51  \n202107                         58                 58  \n202108                         31                 31  \n202109                         39                 39  \n\n[77 rows x 96 columns]",
      "text/html": "<div>\n<style scoped>\n    .dataframe tbody tr th:only-of-type {\n        vertical-align: middle;\n    }\n\n    .dataframe tbody tr th {\n        vertical-align: top;\n    }\n\n    .dataframe thead th {\n        text-align: right;\n    }\n</style>\n<table border=\"1\" class=\"dataframe\">\n  <thead>\n    <tr style=\"text-align: right;\">\n      <th></th>\n      <th>type</th>\n      <th>title</th>\n      <th>director_x</th>\n      <th>cast</th>\n      <th>country_x</th>\n      <th>date_added</th>\n      <th>release_year</th>\n      <th>rating</th>\n      <th>duration_x</th>\n      <th>listed_in</th>\n      <th>...</th>\n      <th>Adj Close_x</th>\n      <th>Date_y</th>\n      <th>Open_y</th>\n      <th>High_y</th>\n      <th>Low_y</th>\n      <th>Close_y</th>\n      <th>Adj Close_y</th>\n      <th>Volume_y</th>\n      <th>% Gain/Loss (Close)</th>\n      <th>% Price Variation</th>\n    </tr>\n    <tr>\n      <th>year_month_x</th>\n      <th></th>\n      <th></th>\n      <th></th>\n      <th></th>\n      <th></th>\n      <th></th>\n      <th></th>\n      <th></th>\n      <th></th>\n      <th></th>\n      <th></th>\n      <th></th>\n      <th></th>\n      <th></th>\n      <th></th>\n      <th></th>\n      <th></th>\n      <th></th>\n      <th></th>\n      <th></th>\n      <th></th>\n    </tr>\n  </thead>\n  <tbody>\n    <tr>\n      <th>201211</th>\n      <td>1</td>\n      <td>1</td>\n      <td>1</td>\n      <td>1</td>\n      <td>1</td>\n      <td>1</td>\n      <td>1</td>\n      <td>1</td>\n      <td>1</td>\n      <td>1</td>\n      <td>...</td>\n      <td>1</td>\n      <td>1</td>\n      <td>1</td>\n      <td>1</td>\n      <td>1</td>\n      <td>1</td>\n      <td>1</td>\n      <td>1</td>\n      <td>1</td>\n      <td>1</td>\n    </tr>\n    <tr>\n      <th>201401</th>\n      <td>2</td>\n      <td>2</td>\n      <td>2</td>\n      <td>2</td>\n      <td>2</td>\n      <td>2</td>\n      <td>2</td>\n      <td>2</td>\n      <td>2</td>\n      <td>2</td>\n      <td>...</td>\n      <td>2</td>\n      <td>2</td>\n      <td>2</td>\n      <td>2</td>\n      <td>2</td>\n      <td>2</td>\n      <td>2</td>\n      <td>2</td>\n      <td>2</td>\n      <td>2</td>\n    </tr>\n    <tr>\n      <th>201504</th>\n      <td>1</td>\n      <td>1</td>\n      <td>0</td>\n      <td>1</td>\n      <td>1</td>\n      <td>1</td>\n      <td>1</td>\n      <td>1</td>\n      <td>1</td>\n      <td>1</td>\n      <td>...</td>\n      <td>1</td>\n      <td>1</td>\n      <td>1</td>\n      <td>1</td>\n      <td>1</td>\n      <td>1</td>\n      <td>1</td>\n      <td>1</td>\n      <td>1</td>\n      <td>1</td>\n    </tr>\n    <tr>\n      <th>201506</th>\n      <td>1</td>\n      <td>1</td>\n      <td>1</td>\n      <td>1</td>\n      <td>1</td>\n      <td>1</td>\n      <td>1</td>\n      <td>1</td>\n      <td>1</td>\n      <td>1</td>\n      <td>...</td>\n      <td>1</td>\n      <td>1</td>\n      <td>1</td>\n      <td>1</td>\n      <td>1</td>\n      <td>1</td>\n      <td>1</td>\n      <td>1</td>\n      <td>1</td>\n      <td>1</td>\n    </tr>\n    <tr>\n      <th>201507</th>\n      <td>3</td>\n      <td>3</td>\n      <td>2</td>\n      <td>3</td>\n      <td>3</td>\n      <td>3</td>\n      <td>3</td>\n      <td>3</td>\n      <td>3</td>\n      <td>3</td>\n      <td>...</td>\n      <td>3</td>\n      <td>3</td>\n      <td>3</td>\n      <td>3</td>\n      <td>3</td>\n      <td>3</td>\n      <td>3</td>\n      <td>3</td>\n      <td>3</td>\n      <td>3</td>\n    </tr>\n    <tr>\n      <th>...</th>\n      <td>...</td>\n      <td>...</td>\n      <td>...</td>\n      <td>...</td>\n      <td>...</td>\n      <td>...</td>\n      <td>...</td>\n      <td>...</td>\n      <td>...</td>\n      <td>...</td>\n      <td>...</td>\n      <td>...</td>\n      <td>...</td>\n      <td>...</td>\n      <td>...</td>\n      <td>...</td>\n      <td>...</td>\n      <td>...</td>\n      <td>...</td>\n      <td>...</td>\n      <td>...</td>\n    </tr>\n    <tr>\n      <th>202105</th>\n      <td>35</td>\n      <td>35</td>\n      <td>22</td>\n      <td>30</td>\n      <td>28</td>\n      <td>35</td>\n      <td>35</td>\n      <td>35</td>\n      <td>35</td>\n      <td>35</td>\n      <td>...</td>\n      <td>35</td>\n      <td>35</td>\n      <td>35</td>\n      <td>35</td>\n      <td>35</td>\n      <td>35</td>\n      <td>35</td>\n      <td>35</td>\n      <td>35</td>\n      <td>35</td>\n    </tr>\n    <tr>\n      <th>202106</th>\n      <td>51</td>\n      <td>51</td>\n      <td>46</td>\n      <td>51</td>\n      <td>36</td>\n      <td>51</td>\n      <td>51</td>\n      <td>51</td>\n      <td>51</td>\n      <td>51</td>\n      <td>...</td>\n      <td>51</td>\n      <td>51</td>\n      <td>51</td>\n      <td>51</td>\n      <td>51</td>\n      <td>51</td>\n      <td>51</td>\n      <td>51</td>\n      <td>51</td>\n      <td>51</td>\n    </tr>\n    <tr>\n      <th>202107</th>\n      <td>58</td>\n      <td>58</td>\n      <td>47</td>\n      <td>58</td>\n      <td>52</td>\n      <td>58</td>\n      <td>58</td>\n      <td>58</td>\n      <td>58</td>\n      <td>58</td>\n      <td>...</td>\n      <td>58</td>\n      <td>58</td>\n      <td>58</td>\n      <td>58</td>\n      <td>58</td>\n      <td>58</td>\n      <td>58</td>\n      <td>58</td>\n      <td>58</td>\n      <td>58</td>\n    </tr>\n    <tr>\n      <th>202108</th>\n      <td>31</td>\n      <td>31</td>\n      <td>24</td>\n      <td>31</td>\n      <td>25</td>\n      <td>31</td>\n      <td>31</td>\n      <td>31</td>\n      <td>31</td>\n      <td>31</td>\n      <td>...</td>\n      <td>31</td>\n      <td>31</td>\n      <td>31</td>\n      <td>31</td>\n      <td>31</td>\n      <td>31</td>\n      <td>31</td>\n      <td>31</td>\n      <td>31</td>\n      <td>31</td>\n    </tr>\n    <tr>\n      <th>202109</th>\n      <td>39</td>\n      <td>39</td>\n      <td>32</td>\n      <td>39</td>\n      <td>36</td>\n      <td>39</td>\n      <td>39</td>\n      <td>39</td>\n      <td>39</td>\n      <td>39</td>\n      <td>...</td>\n      <td>39</td>\n      <td>39</td>\n      <td>39</td>\n      <td>39</td>\n      <td>39</td>\n      <td>39</td>\n      <td>39</td>\n      <td>39</td>\n      <td>39</td>\n      <td>39</td>\n    </tr>\n  </tbody>\n</table>\n<p>77 rows × 96 columns</p>\n</div>"
     },
     "execution_count": 114,
     "metadata": {},
     "output_type": "execute_result"
    }
   ],
   "source": [
    "freq_df = df.groupby('year_month_x').count()\n",
    "freq_df"
   ],
   "metadata": {
    "collapsed": false,
    "pycharm": {
     "name": "#%%\n"
    }
   }
  },
  {
   "cell_type": "code",
   "execution_count": 116,
   "outputs": [
    {
     "data": {
      "text/plain": "<Figure size 936x936 with 1 Axes>",
      "image/png": "[encoded data removed]"
     },
     "metadata": {
      "needs_background": "light"
     },
     "output_type": "display_data"
    }
   ],
   "source": [
    "release_year_date_df = date_df['release_year']\n",
    "plt.figure(figsize=(13,13))\n",
    "plt.scatter(release_year_date_df.index, release_year_date_df)\n",
    "plt.xticks(rotation=90)\n",
    "plt.show()"
   ],
   "metadata": {
    "collapsed": false,
    "pycharm": {
     "name": "#%%\n"
    }
   }
  },
  {
   "cell_type": "code",
   "execution_count": 111,
   "outputs": [
    {
     "data": {
      "text/plain": "0       2021\n1       2021\n2       2021\n3       2021\n4       2021\n        ... \n2168    2016\n2169    2019\n2170    2019\n2171    2015\n2172    2016\nName: date_added, Length: 2173, dtype: int64"
     },
     "execution_count": 111,
     "metadata": {},
     "output_type": "execute_result"
    }
   ],
   "source": [
    "df['date_added'].dt.year"
   ],
   "metadata": {
    "collapsed": false,
    "pycharm": {
     "name": "#%%\n"
    }
   }
  },
  {
   "cell_type": "code",
   "execution_count": 112,
   "outputs": [
    {
     "ename": "ValueError",
     "evalue": "x and y must be the same size",
     "output_type": "error",
     "traceback": [
      "\u001B[0;31m---------------------------------------------------------------------------\u001B[0m",
      "\u001B[0;31mValueError\u001B[0m                                Traceback (most recent call last)",
      "\u001B[0;32m/var/folders/z_/fl1l3lj16n55t2wwqw4xkcw80000gn/T/ipykernel_36400/3211114758.py\u001B[0m in \u001B[0;36m<module>\u001B[0;34m\u001B[0m\n\u001B[0;32m----> 1\u001B[0;31m \u001B[0mplt\u001B[0m\u001B[0;34m.\u001B[0m\u001B[0mscatter\u001B[0m\u001B[0;34m(\u001B[0m\u001B[0mdate_df\u001B[0m\u001B[0;34m.\u001B[0m\u001B[0mindex\u001B[0m\u001B[0;34m,\u001B[0m \u001B[0mdate_df\u001B[0m\u001B[0;34m)\u001B[0m\u001B[0;34m\u001B[0m\u001B[0;34m\u001B[0m\u001B[0m\n\u001B[0m\u001B[1;32m      2\u001B[0m \u001B[0mplt\u001B[0m\u001B[0;34m.\u001B[0m\u001B[0mshow\u001B[0m\u001B[0;34m(\u001B[0m\u001B[0;34m)\u001B[0m\u001B[0;34m\u001B[0m\u001B[0;34m\u001B[0m\u001B[0m\n",
      "\u001B[0;32m~/opt/anaconda3/lib/python3.8/site-packages/matplotlib/pyplot.py\u001B[0m in \u001B[0;36mscatter\u001B[0;34m(x, y, s, c, marker, cmap, norm, vmin, vmax, alpha, linewidths, edgecolors, plotnonfinite, data, **kwargs)\u001B[0m\n\u001B[1;32m   3066\u001B[0m         \u001B[0mvmin\u001B[0m\u001B[0;34m=\u001B[0m\u001B[0;32mNone\u001B[0m\u001B[0;34m,\u001B[0m \u001B[0mvmax\u001B[0m\u001B[0;34m=\u001B[0m\u001B[0;32mNone\u001B[0m\u001B[0;34m,\u001B[0m \u001B[0malpha\u001B[0m\u001B[0;34m=\u001B[0m\u001B[0;32mNone\u001B[0m\u001B[0;34m,\u001B[0m \u001B[0mlinewidths\u001B[0m\u001B[0;34m=\u001B[0m\u001B[0;32mNone\u001B[0m\u001B[0;34m,\u001B[0m \u001B[0;34m*\u001B[0m\u001B[0;34m,\u001B[0m\u001B[0;34m\u001B[0m\u001B[0;34m\u001B[0m\u001B[0m\n\u001B[1;32m   3067\u001B[0m         edgecolors=None, plotnonfinite=False, data=None, **kwargs):\n\u001B[0;32m-> 3068\u001B[0;31m     __ret = gca().scatter(\n\u001B[0m\u001B[1;32m   3069\u001B[0m         \u001B[0mx\u001B[0m\u001B[0;34m,\u001B[0m \u001B[0my\u001B[0m\u001B[0;34m,\u001B[0m \u001B[0ms\u001B[0m\u001B[0;34m=\u001B[0m\u001B[0ms\u001B[0m\u001B[0;34m,\u001B[0m \u001B[0mc\u001B[0m\u001B[0;34m=\u001B[0m\u001B[0mc\u001B[0m\u001B[0;34m,\u001B[0m \u001B[0mmarker\u001B[0m\u001B[0;34m=\u001B[0m\u001B[0mmarker\u001B[0m\u001B[0;34m,\u001B[0m \u001B[0mcmap\u001B[0m\u001B[0;34m=\u001B[0m\u001B[0mcmap\u001B[0m\u001B[0;34m,\u001B[0m \u001B[0mnorm\u001B[0m\u001B[0;34m=\u001B[0m\u001B[0mnorm\u001B[0m\u001B[0;34m,\u001B[0m\u001B[0;34m\u001B[0m\u001B[0;34m\u001B[0m\u001B[0m\n\u001B[1;32m   3070\u001B[0m         \u001B[0mvmin\u001B[0m\u001B[0;34m=\u001B[0m\u001B[0mvmin\u001B[0m\u001B[0;34m,\u001B[0m \u001B[0mvmax\u001B[0m\u001B[0;34m=\u001B[0m\u001B[0mvmax\u001B[0m\u001B[0;34m,\u001B[0m \u001B[0malpha\u001B[0m\u001B[0;34m=\u001B[0m\u001B[0malpha\u001B[0m\u001B[0;34m,\u001B[0m \u001B[0mlinewidths\u001B[0m\u001B[0;34m=\u001B[0m\u001B[0mlinewidths\u001B[0m\u001B[0;34m,\u001B[0m\u001B[0;34m\u001B[0m\u001B[0;34m\u001B[0m\u001B[0m\n",
      "\u001B[0;32m~/opt/anaconda3/lib/python3.8/site-packages/matplotlib/__init__.py\u001B[0m in \u001B[0;36minner\u001B[0;34m(ax, data, *args, **kwargs)\u001B[0m\n\u001B[1;32m   1359\u001B[0m     \u001B[0;32mdef\u001B[0m \u001B[0minner\u001B[0m\u001B[0;34m(\u001B[0m\u001B[0max\u001B[0m\u001B[0;34m,\u001B[0m \u001B[0;34m*\u001B[0m\u001B[0margs\u001B[0m\u001B[0;34m,\u001B[0m \u001B[0mdata\u001B[0m\u001B[0;34m=\u001B[0m\u001B[0;32mNone\u001B[0m\u001B[0;34m,\u001B[0m \u001B[0;34m**\u001B[0m\u001B[0mkwargs\u001B[0m\u001B[0;34m)\u001B[0m\u001B[0;34m:\u001B[0m\u001B[0;34m\u001B[0m\u001B[0;34m\u001B[0m\u001B[0m\n\u001B[1;32m   1360\u001B[0m         \u001B[0;32mif\u001B[0m \u001B[0mdata\u001B[0m \u001B[0;32mis\u001B[0m \u001B[0;32mNone\u001B[0m\u001B[0;34m:\u001B[0m\u001B[0;34m\u001B[0m\u001B[0;34m\u001B[0m\u001B[0m\n\u001B[0;32m-> 1361\u001B[0;31m             \u001B[0;32mreturn\u001B[0m \u001B[0mfunc\u001B[0m\u001B[0;34m(\u001B[0m\u001B[0max\u001B[0m\u001B[0;34m,\u001B[0m \u001B[0;34m*\u001B[0m\u001B[0mmap\u001B[0m\u001B[0;34m(\u001B[0m\u001B[0msanitize_sequence\u001B[0m\u001B[0;34m,\u001B[0m \u001B[0margs\u001B[0m\u001B[0;34m)\u001B[0m\u001B[0;34m,\u001B[0m \u001B[0;34m**\u001B[0m\u001B[0mkwargs\u001B[0m\u001B[0;34m)\u001B[0m\u001B[0;34m\u001B[0m\u001B[0;34m\u001B[0m\u001B[0m\n\u001B[0m\u001B[1;32m   1362\u001B[0m \u001B[0;34m\u001B[0m\u001B[0m\n\u001B[1;32m   1363\u001B[0m         \u001B[0mbound\u001B[0m \u001B[0;34m=\u001B[0m \u001B[0mnew_sig\u001B[0m\u001B[0;34m.\u001B[0m\u001B[0mbind\u001B[0m\u001B[0;34m(\u001B[0m\u001B[0max\u001B[0m\u001B[0;34m,\u001B[0m \u001B[0;34m*\u001B[0m\u001B[0margs\u001B[0m\u001B[0;34m,\u001B[0m \u001B[0;34m**\u001B[0m\u001B[0mkwargs\u001B[0m\u001B[0;34m)\u001B[0m\u001B[0;34m\u001B[0m\u001B[0;34m\u001B[0m\u001B[0m\n",
      "\u001B[0;32m~/opt/anaconda3/lib/python3.8/site-packages/matplotlib/axes/_axes.py\u001B[0m in \u001B[0;36mscatter\u001B[0;34m(self, x, y, s, c, marker, cmap, norm, vmin, vmax, alpha, linewidths, edgecolors, plotnonfinite, **kwargs)\u001B[0m\n\u001B[1;32m   4496\u001B[0m         \u001B[0my\u001B[0m \u001B[0;34m=\u001B[0m \u001B[0mnp\u001B[0m\u001B[0;34m.\u001B[0m\u001B[0mma\u001B[0m\u001B[0;34m.\u001B[0m\u001B[0mravel\u001B[0m\u001B[0;34m(\u001B[0m\u001B[0my\u001B[0m\u001B[0;34m)\u001B[0m\u001B[0;34m\u001B[0m\u001B[0;34m\u001B[0m\u001B[0m\n\u001B[1;32m   4497\u001B[0m         \u001B[0;32mif\u001B[0m \u001B[0mx\u001B[0m\u001B[0;34m.\u001B[0m\u001B[0msize\u001B[0m \u001B[0;34m!=\u001B[0m \u001B[0my\u001B[0m\u001B[0;34m.\u001B[0m\u001B[0msize\u001B[0m\u001B[0;34m:\u001B[0m\u001B[0;34m\u001B[0m\u001B[0;34m\u001B[0m\u001B[0m\n\u001B[0;32m-> 4498\u001B[0;31m             \u001B[0;32mraise\u001B[0m \u001B[0mValueError\u001B[0m\u001B[0;34m(\u001B[0m\u001B[0;34m\"x and y must be the same size\"\u001B[0m\u001B[0;34m)\u001B[0m\u001B[0;34m\u001B[0m\u001B[0;34m\u001B[0m\u001B[0m\n\u001B[0m\u001B[1;32m   4499\u001B[0m \u001B[0;34m\u001B[0m\u001B[0m\n\u001B[1;32m   4500\u001B[0m         \u001B[0;32mif\u001B[0m \u001B[0ms\u001B[0m \u001B[0;32mis\u001B[0m \u001B[0;32mNone\u001B[0m\u001B[0;34m:\u001B[0m\u001B[0;34m\u001B[0m\u001B[0;34m\u001B[0m\u001B[0m\n",
      "\u001B[0;31mValueError\u001B[0m: x and y must be the same size"
     ]
    },
    {
     "data": {
      "text/plain": "<Figure size 432x288 with 1 Axes>",
      "image/png": "[encoded data removed]"
     },
     "metadata": {
      "needs_background": "light"
     },
     "output_type": "display_data"
    }
   ],
   "source": [
    "plt.scatter(date_df.index, date_df)\n",
    "plt.show()"
   ],
   "metadata": {
    "collapsed": false,
    "pycharm": {
     "name": "#%%\n"
    }
   }
  },
  {
   "cell_type": "code",
   "execution_count": null,
   "outputs": [],
   "source": [
    "mean_df.columns"
   ],
   "metadata": {
    "collapsed": false,
    "pycharm": {
     "name": "#%%\n"
    }
   }
  },
  {
   "cell_type": "code",
   "execution_count": null,
   "outputs": [],
   "source": [
    "mean_df_min_5 = mean_df[df_bool]\n",
    "mean_df_min_5"
   ],
   "metadata": {
    "collapsed": false,
    "pycharm": {
     "name": "#%%\n"
    }
   }
  },
  {
   "cell_type": "code",
   "execution_count": null,
   "outputs": [],
   "source": [],
   "metadata": {
    "collapsed": false,
    "pycharm": {
     "name": "#%%\n"
    }
   }
  },
  {
   "cell_type": "code",
   "execution_count": null,
   "outputs": [],
   "source": [
    "plt.scatter(mean_df_min_5.index, mean_df_min_5)\n",
    "plt.show()"
   ],
   "metadata": {
    "collapsed": false,
    "pycharm": {
     "name": "#%%\n"
    }
   }
  },
  {
   "cell_type": "code",
   "execution_count": null,
   "id": "ed0a6c66",
   "metadata": {
    "executionInfo": {
     "elapsed": 719,
     "status": "ok",
     "timestamp": 1634809637127,
     "user": {
      "displayName": "김정인",
      "photoUrl": "https://lh3.googleusercontent.com/a-/AOh14Gh3vkUnAYiRh4RDdp2el8MRY_E4lyJNoUMMOFlFlA=s64",
      "userId": "11915939704307778496"
     },
     "user_tz": -540
    },
    "id": "IJ_hsYD0slkM"
   },
   "outputs": [],
   "source": [
    "import os\n",
    "import matplotlib.pyplot as plt\n",
    "import numpy as np\n",
    "import pandas as pd\n",
    "import seaborn as sns"
   ]
  },
  {
   "cell_type": "code",
   "execution_count": null,
   "id": "662505b1",
   "metadata": {
    "executionInfo": {
     "elapsed": 437,
     "status": "ok",
     "timestamp": 1634809638125,
     "user": {
      "displayName": "김정인",
      "photoUrl": "https://lh3.googleusercontent.com/a-/AOh14Gh3vkUnAYiRh4RDdp2el8MRY_E4lyJNoUMMOFlFlA=s64",
      "userId": "11915939704307778496"
     },
     "user_tz": -540
    },
    "id": "-ArsuzEZtG8W"
   },
   "outputs": [],
   "source": [
    "#시간별로 vote 수\n",
    "popular=pd.read_csv(PATH + \"popular_des2.csv\",index_col=0)\n",
    "no_popular = pd.read_csv(PATH + \"non_popular_des2.csv\",index_col=0)"
   ]
  },
  {
   "cell_type": "code",
   "execution_count": null,
   "id": "95d5ba47",
   "metadata": {
    "colab": {
     "base_uri": "https://localhost:8080/",
     "height": 203
    },
    "executionInfo": {
     "elapsed": 10,
     "status": "ok",
     "timestamp": 1634809638126,
     "user": {
      "displayName": "김정인",
      "photoUrl": "https://lh3.googleusercontent.com/a-/AOh14Gh3vkUnAYiRh4RDdp2el8MRY_E4lyJNoUMMOFlFlA=s64",
      "userId": "11915939704307778496"
     },
     "user_tz": -540
    },
    "id": "d_uNqCWYwDbw",
    "outputId": "e3878970-7c63-4eb8-b5bf-d56b1287f609"
   },
   "outputs": [],
   "source": [
    "popular[:5]"
   ]
  },
  {
   "cell_type": "code",
   "execution_count": null,
   "id": "3fc66278",
   "metadata": {
    "colab": {
     "base_uri": "https://localhost:8080/"
    },
    "executionInfo": {
     "elapsed": 1670,
     "status": "ok",
     "timestamp": 1634809639788,
     "user": {
      "displayName": "김정인",
      "photoUrl": "https://lh3.googleusercontent.com/a-/AOh14Gh3vkUnAYiRh4RDdp2el8MRY_E4lyJNoUMMOFlFlA=s64",
      "userId": "11915939704307778496"
     },
     "user_tz": -540
    },
    "id": "E3adtDQHsgd5",
    "outputId": "5d93cd5d-2dbd-449f-d88d-e53559000e1e"
   },
   "outputs": [],
   "source": [
    "from sklearn.datasets import fetch_20newsgroups\n",
    "dataset = fetch_20newsgroups(shuffle=True, random_state=1, remove=('headers', 'footers', 'quotes'))\n",
    "documents = dataset.data\n",
    "len(documents)"
   ]
  },
  {
   "cell_type": "code",
   "execution_count": null,
   "id": "22536447",
   "metadata": {
    "colab": {
     "base_uri": "https://localhost:8080/"
    },
    "executionInfo": {
     "elapsed": 14,
     "status": "ok",
     "timestamp": 1634809639789,
     "user": {
      "displayName": "김정인",
      "photoUrl": "https://lh3.googleusercontent.com/a-/AOh14Gh3vkUnAYiRh4RDdp2el8MRY_E4lyJNoUMMOFlFlA=s64",
      "userId": "11915939704307778496"
     },
     "user_tz": -540
    },
    "id": "WMEPUkg7unYg",
    "outputId": "10dc5c75-dba7-4313-cc81-bfd3f0fca49b"
   },
   "outputs": [],
   "source": [
    "popular_list = popular.values.tolist()\n",
    "no_popular_list = no_popular.values.tolist()\n",
    "popular_list[:5]"
   ]
  },
  {
   "cell_type": "code",
   "execution_count": null,
   "id": "bd5506e4",
   "metadata": {
    "executionInfo": {
     "elapsed": 11,
     "status": "ok",
     "timestamp": 1634809639789,
     "user": {
      "displayName": "김정인",
      "photoUrl": "https://lh3.googleusercontent.com/a-/AOh14Gh3vkUnAYiRh4RDdp2el8MRY_E4lyJNoUMMOFlFlA=s64",
      "userId": "11915939704307778496"
     },
     "user_tz": -540
    },
    "id": "-RPWCWP3shcy"
   },
   "outputs": [],
   "source": [
    "import itertools\n",
    "popular_list =list(itertools.chain.from_iterable(popular_list))\n",
    "no_popular_list=list(itertools.chain.from_iterable(no_popular_list))"
   ]
  },
  {
   "cell_type": "code",
   "execution_count": null,
   "id": "47ffff27",
   "metadata": {
    "colab": {
     "base_uri": "https://localhost:8080/"
    },
    "executionInfo": {
     "elapsed": 14,
     "status": "ok",
     "timestamp": 1634809639792,
     "user": {
      "displayName": "김정인",
      "photoUrl": "https://lh3.googleusercontent.com/a-/AOh14Gh3vkUnAYiRh4RDdp2el8MRY_E4lyJNoUMMOFlFlA=s64",
      "userId": "11915939704307778496"
     },
     "user_tz": -540
    },
    "id": "HQblofb5xrv-",
    "outputId": "fd93da75-35fd-4453-e4fd-d9eabd52ce00"
   },
   "outputs": [],
   "source": [
    "#텍스트 전처리\n",
    "news_df = pd.DataFrame({'document':no_popular_list})\n",
    "# 특수 문자 제거\n",
    "news_df['clean_doc'] = news_df['document'].str.replace(\"[^a-zA-Z]\", \" \")\n",
    "# 길이가 3이하인 단어는 제거 (길이가 짧은 단어 제거)\n",
    "news_df['clean_doc'] = news_df['clean_doc'].apply(lambda x: ' '.join([w for w in x.split() if len(w)>3]))\n",
    "# 전체 단어에 대한 소문자 변환\n",
    "news_df['clean_doc'] = news_df['clean_doc'].apply(lambda x: x.lower())"
   ]
  },
  {
   "cell_type": "code",
   "execution_count": null,
   "id": "c66b4997",
   "metadata": {
    "colab": {
     "base_uri": "https://localhost:8080/",
     "height": 35
    },
    "executionInfo": {
     "elapsed": 13,
     "status": "ok",
     "timestamp": 1634809639794,
     "user": {
      "displayName": "김정인",
      "photoUrl": "https://lh3.googleusercontent.com/a-/AOh14Gh3vkUnAYiRh4RDdp2el8MRY_E4lyJNoUMMOFlFlA=s64",
      "userId": "11915939704307778496"
     },
     "user_tz": -540
    },
    "id": "vuj4cSFPshXt",
    "outputId": "fd46dfda-3454-4422-ab91-1123116d8084"
   },
   "outputs": [],
   "source": [
    "news_df['clean_doc'][1]"
   ]
  },
  {
   "cell_type": "code",
   "execution_count": null,
   "id": "21b69f7b",
   "metadata": {
    "colab": {
     "base_uri": "https://localhost:8080/"
    },
    "executionInfo": {
     "elapsed": 397,
     "status": "ok",
     "timestamp": 1634809640179,
     "user": {
      "displayName": "김정인",
      "photoUrl": "https://lh3.googleusercontent.com/a-/AOh14Gh3vkUnAYiRh4RDdp2el8MRY_E4lyJNoUMMOFlFlA=s64",
      "userId": "11915939704307778496"
     },
     "user_tz": -540
    },
    "id": "ZlScwQgxshWP",
    "outputId": "74886134-8f82-44a0-b26d-d3dcb45c49fd"
   },
   "outputs": [],
   "source": [
    "import nltk\n",
    "nltk.download('stopwords')\n",
    "  \n",
    "from nltk.corpus import stopwords\n",
    "stop_words = stopwords.words('english') # NLTK로부터 불용어를 받아옵니다.\n",
    "tokenized_doc = news_df['clean_doc'].apply(lambda x: x.split()) # 토큰화\n",
    "tokenized_doc = tokenized_doc.apply(lambda x: [item for item in x if item not in stop_words])\n",
    "# 불용어를 제거합니다."
   ]
  },
  {
   "cell_type": "code",
   "execution_count": null,
   "id": "a868cf3a",
   "metadata": {
    "colab": {
     "base_uri": "https://localhost:8080/"
    },
    "executionInfo": {
     "elapsed": 13,
     "status": "ok",
     "timestamp": 1634809640180,
     "user": {
      "displayName": "김정인",
      "photoUrl": "https://lh3.googleusercontent.com/a-/AOh14Gh3vkUnAYiRh4RDdp2el8MRY_E4lyJNoUMMOFlFlA=s64",
      "userId": "11915939704307778496"
     },
     "user_tz": -540
    },
    "id": "TlSND5RHshUm",
    "outputId": "a467f315-700b-49b2-f3a0-ff26586030d5"
   },
   "outputs": [],
   "source": [
    "print(tokenized_doc[1])"
   ]
  },
  {
   "cell_type": "code",
   "execution_count": null,
   "id": "62ef8d6b",
   "metadata": {
    "executionInfo": {
     "elapsed": 12,
     "status": "ok",
     "timestamp": 1634809640181,
     "user": {
      "displayName": "김정인",
      "photoUrl": "https://lh3.googleusercontent.com/a-/AOh14Gh3vkUnAYiRh4RDdp2el8MRY_E4lyJNoUMMOFlFlA=s64",
      "userId": "11915939704307778496"
     },
     "user_tz": -540
    },
    "id": "x_2CLxREshQ8"
   },
   "outputs": [],
   "source": [
    "#3) TF-IDF 행렬 만들기\n",
    "# 역토큰화 (토큰화 작업을 역으로 되돌림)\n",
    "detokenized_doc = []\n",
    "for i in range(len(news_df)):\n",
    "    t = ' '.join(tokenized_doc[i])\n",
    "    detokenized_doc.append(t)\n",
    "\n",
    "news_df['clean_doc'] = detokenized_doc"
   ]
  },
  {
   "cell_type": "code",
   "execution_count": null,
   "id": "3d1c3ea5",
   "metadata": {
    "colab": {
     "base_uri": "https://localhost:8080/",
     "height": 35
    },
    "executionInfo": {
     "elapsed": 11,
     "status": "ok",
     "timestamp": 1634809640181,
     "user": {
      "displayName": "김정인",
      "photoUrl": "https://lh3.googleusercontent.com/a-/AOh14Gh3vkUnAYiRh4RDdp2el8MRY_E4lyJNoUMMOFlFlA=s64",
      "userId": "11915939704307778496"
     },
     "user_tz": -540
    },
    "id": "Ob_L7mLRshJw",
    "outputId": "bd81261c-d8dc-40ed-bf0e-5b54f15ac07b"
   },
   "outputs": [],
   "source": [
    "news_df['clean_doc'][1]"
   ]
  },
  {
   "cell_type": "code",
   "execution_count": null,
   "id": "b8506a7c",
   "metadata": {
    "colab": {
     "base_uri": "https://localhost:8080/"
    },
    "executionInfo": {
     "elapsed": 11,
     "status": "ok",
     "timestamp": 1634809640182,
     "user": {
      "displayName": "김정인",
      "photoUrl": "https://lh3.googleusercontent.com/a-/AOh14Gh3vkUnAYiRh4RDdp2el8MRY_E4lyJNoUMMOFlFlA=s64",
      "userId": "11915939704307778496"
     },
     "user_tz": -540
    },
    "id": "imTo3RqVyIho",
    "outputId": "908fd6e2-c76a-4d51-df5a-3957d19b24d8"
   },
   "outputs": [],
   "source": [
    "from sklearn.feature_extraction.text import TfidfVectorizer\n",
    "\n",
    "vectorizer = TfidfVectorizer(stop_words='english', \n",
    "max_features= 1000, # 상위 1,000개의 단어를 보존 \n",
    "max_df = 0.5, \n",
    "smooth_idf=True)\n",
    "\n",
    "X = vectorizer.fit_transform(news_df['clean_doc'])\n",
    "X.shape # TF-IDF 행렬의 크기 확인"
   ]
  },
  {
   "cell_type": "code",
   "execution_count": null,
   "id": "4af4b98b",
   "metadata": {
    "colab": {
     "base_uri": "https://localhost:8080/"
    },
    "executionInfo": {
     "elapsed": 332,
     "status": "ok",
     "timestamp": 1634809640505,
     "user": {
      "displayName": "김정인",
      "photoUrl": "https://lh3.googleusercontent.com/a-/AOh14Gh3vkUnAYiRh4RDdp2el8MRY_E4lyJNoUMMOFlFlA=s64",
      "userId": "11915939704307778496"
     },
     "user_tz": -540
    },
    "id": "2mIoGKxtyIfW",
    "outputId": "d40ac70f-81f1-4fed-f2d8-a0fbe4a89b77"
   },
   "outputs": [],
   "source": [
    "from sklearn.decomposition import TruncatedSVD\n",
    "svd_model = TruncatedSVD(n_components=20, algorithm='randomized', n_iter=100, random_state=122)\n",
    "svd_model.fit(X)\n",
    "len(svd_model.components_)"
   ]
  },
  {
   "cell_type": "code",
   "execution_count": null,
   "id": "4ff81225",
   "metadata": {
    "colab": {
     "base_uri": "https://localhost:8080/"
    },
    "executionInfo": {
     "elapsed": 13,
     "status": "ok",
     "timestamp": 1634809640507,
     "user": {
      "displayName": "김정인",
      "photoUrl": "https://lh3.googleusercontent.com/a-/AOh14Gh3vkUnAYiRh4RDdp2el8MRY_E4lyJNoUMMOFlFlA=s64",
      "userId": "11915939704307778496"
     },
     "user_tz": -540
    },
    "id": "FI7UARrAyIc_",
    "outputId": "36016c8e-1777-41cc-f712-8ec9e50b2458"
   },
   "outputs": [],
   "source": [
    "np.shape(svd_model.components_)\n"
   ]
  },
  {
   "cell_type": "code",
   "execution_count": null,
   "id": "f8ca5484",
   "metadata": {
    "colab": {
     "base_uri": "https://localhost:8080/"
    },
    "executionInfo": {
     "elapsed": 10,
     "status": "ok",
     "timestamp": 1634809640507,
     "user": {
      "displayName": "김정인",
      "photoUrl": "https://lh3.googleusercontent.com/a-/AOh14Gh3vkUnAYiRh4RDdp2el8MRY_E4lyJNoUMMOFlFlA=s64",
      "userId": "11915939704307778496"
     },
     "user_tz": -540
    },
    "id": "7kTyAESOyIbD",
    "outputId": "d818b402-6418-4938-ba87-2b65a4025636"
   },
   "outputs": [],
   "source": [
    "terms = vectorizer.get_feature_names() # 단어 집합. 1,000개의 단어가 저장됨.\n",
    "\n",
    "def get_topics(components, feature_names, n=5):\n",
    "    for idx, topic in enumerate(components):\n",
    "        print(\"Topic %d:\" % (idx+1), [(feature_names[i], topic[i].round(5)) for i in topic.argsort()[:-n - 1:-1]])\n",
    "get_topics(svd_model.components_,terms)"
   ]
  },
  {
   "cell_type": "code",
   "execution_count": null,
   "id": "203f2df0",
   "metadata": {
    "colab": {
     "base_uri": "https://localhost:8080/"
    },
    "executionInfo": {
     "elapsed": 9,
     "status": "ok",
     "timestamp": 1634809640508,
     "user": {
      "displayName": "김정인",
      "photoUrl": "https://lh3.googleusercontent.com/a-/AOh14Gh3vkUnAYiRh4RDdp2el8MRY_E4lyJNoUMMOFlFlA=s64",
      "userId": "11915939704307778496"
     },
     "user_tz": -540
    },
    "id": "oTxQO6gbyIXe",
    "outputId": "781f6062-fdc8-4503-d46b-540d3eb2ff8b"
   },
   "outputs": [],
   "source": [
    "tokenized_doc[:5]"
   ]
  },
  {
   "cell_type": "code",
   "execution_count": null,
   "id": "be37ce71",
   "metadata": {
    "colab": {
     "base_uri": "https://localhost:8080/"
    },
    "executionInfo": {
     "elapsed": 349,
     "status": "ok",
     "timestamp": 1634809640851,
     "user": {
      "displayName": "김정인",
      "photoUrl": "https://lh3.googleusercontent.com/a-/AOh14Gh3vkUnAYiRh4RDdp2el8MRY_E4lyJNoUMMOFlFlA=s64",
      "userId": "11915939704307778496"
     },
     "user_tz": -540
    },
    "id": "ChdJxZylyIUq",
    "outputId": "3d13f345-276a-4608-c9e8-e4f7c1fbc705"
   },
   "outputs": [],
   "source": [
    "from gensim import corpora\n",
    "dictionary = corpora.Dictionary(tokenized_doc)\n",
    "corpus = [dictionary.doc2bow(text) for text in tokenized_doc]\n",
    "print(corpus[1]) # 수행된 결과에서 두번째 뉴스 출력. 첫번째 문서의 인덱스는 0\n"
   ]
  },
  {
   "cell_type": "code",
   "execution_count": null,
   "id": "ae79ca72",
   "metadata": {
    "colab": {
     "base_uri": "https://localhost:8080/"
    },
    "executionInfo": {
     "elapsed": 8,
     "status": "ok",
     "timestamp": 1634809640851,
     "user": {
      "displayName": "김정인",
      "photoUrl": "https://lh3.googleusercontent.com/a-/AOh14Gh3vkUnAYiRh4RDdp2el8MRY_E4lyJNoUMMOFlFlA=s64",
      "userId": "11915939704307778496"
     },
     "user_tz": -540
    },
    "id": "nWWXSNoZyISO",
    "outputId": "a1a33804-fb2d-4f9d-ebf7-8822728a6165"
   },
   "outputs": [],
   "source": [
    "print(dictionary[66])"
   ]
  },
  {
   "cell_type": "code",
   "execution_count": null,
   "id": "c112f328",
   "metadata": {
    "colab": {
     "base_uri": "https://localhost:8080/"
    },
    "executionInfo": {
     "elapsed": 6,
     "status": "ok",
     "timestamp": 1634809640852,
     "user": {
      "displayName": "김정인",
      "photoUrl": "https://lh3.googleusercontent.com/a-/AOh14Gh3vkUnAYiRh4RDdp2el8MRY_E4lyJNoUMMOFlFlA=s64",
      "userId": "11915939704307778496"
     },
     "user_tz": -540
    },
    "id": "yuxs3cg7yIP0",
    "outputId": "13de7a48-6ebf-4ade-8dca-a3e4179e216b"
   },
   "outputs": [],
   "source": [
    "len(dictionary)"
   ]
  },
  {
   "cell_type": "code",
   "execution_count": null,
   "id": "902f2cd4",
   "metadata": {
    "colab": {
     "base_uri": "https://localhost:8080/"
    },
    "executionInfo": {
     "elapsed": 5838,
     "status": "ok",
     "timestamp": 1634809646686,
     "user": {
      "displayName": "김정인",
      "photoUrl": "https://lh3.googleusercontent.com/a-/AOh14Gh3vkUnAYiRh4RDdp2el8MRY_E4lyJNoUMMOFlFlA=s64",
      "userId": "11915939704307778496"
     },
     "user_tz": -540
    },
    "id": "w0ZF-Pebyme4",
    "outputId": "1aba4033-79e9-4936-a562-f7a95bc0a672"
   },
   "outputs": [],
   "source": [
    "import gensim\n",
    "NUM_TOPICS = 20 #20개의 토픽, k=20\n",
    "ldamodel = gensim.models.ldamodel.LdaModel(corpus, num_topics = NUM_TOPICS, id2word=dictionary, passes=15)\n",
    "topics = ldamodel.print_topics(num_words=4)\n",
    "for topic in topics:\n",
    "    print(topic)"
   ]
  },
  {
   "cell_type": "code",
   "execution_count": null,
   "id": "10e2be5d",
   "metadata": {
    "colab": {
     "base_uri": "https://localhost:8080/"
    },
    "executionInfo": {
     "elapsed": 16,
     "status": "ok",
     "timestamp": 1634809646687,
     "user": {
      "displayName": "김정인",
      "photoUrl": "https://lh3.googleusercontent.com/a-/AOh14Gh3vkUnAYiRh4RDdp2el8MRY_E4lyJNoUMMOFlFlA=s64",
      "userId": "11915939704307778496"
     },
     "user_tz": -540
    },
    "id": "SDUPt575ymca",
    "outputId": "b8ec53ab-d8b9-4987-d8f5-0d6e7722be66"
   },
   "outputs": [],
   "source": [
    "print(ldamodel.print_topics())"
   ]
  },
  {
   "cell_type": "code",
   "execution_count": null,
   "id": "1b9b333f",
   "metadata": {
    "colab": {
     "base_uri": "https://localhost:8080/",
     "height": 1000
    },
    "executionInfo": {
     "elapsed": 7143,
     "status": "ok",
     "timestamp": 1634809657028,
     "user": {
      "displayName": "김정인",
      "photoUrl": "https://lh3.googleusercontent.com/a-/AOh14Gh3vkUnAYiRh4RDdp2el8MRY_E4lyJNoUMMOFlFlA=s64",
      "userId": "11915939704307778496"
     },
     "user_tz": -540
    },
    "id": "32-5BBDsymTb",
    "outputId": "cca02a21-b822-4bcb-cf51-5730d62b944b",
    "scrolled": false
   },
   "outputs": [],
   "source": [
    "# !pip install pyLDAvis\n",
    "import pyLDAvis\n",
    "import pyLDAvis.gensim_models\n",
    "\n",
    "pyLDAvis.enable_notebook()\n",
    "vis = pyLDAvis.gensim_models.prepare(ldamodel, corpus, dictionary)\n",
    "vis"
   ]
  },
  {
   "cell_type": "code",
   "execution_count": null,
   "id": "0bb3b669",
   "metadata": {},
   "outputs": [],
   "source": [
    "plt.figure(figsize = (50, 20))\n",
    "plt.subplot(2,2,1)\n",
    "sns.scatterplot(x='Date_x', y='allgenders_0age_avg_vote', data=df_titles_rating_stockprice_SP500, color='r', s=200)\n",
    "plt.subplot(2,2,2)\n",
    "sns.scatterplot(x='Date_x', y='allgenders_18age_avg_vote', data=df_titles_rating_stockprice_SP500, color='y', s=200)\n",
    "plt.subplot(2,2,3)\n",
    "sns.scatterplot(x='Date_x', y='allgenders_30age_avg_vote', data=df_titles_rating_stockprice_SP500, color='g', s=200)\n",
    "plt.subplot(2,2,4)\n",
    "sns.scatterplot(x='Date_x', y='allgenders_45age_avg_vote', data=df_titles_rating_stockprice_SP500, color='k', s=200)"
   ]
  },
  {
   "cell_type": "code",
   "execution_count": null,
   "id": "ea6cd34d",
   "metadata": {
    "scrolled": false
   },
   "outputs": [],
   "source": [
    "plt.figure(figsize = (20, 10))\n",
    "plt.subplot(2,2,1)\n",
    "sns.scatterplot(x='release_year', y='allgenders_0age_avg_vote', data=df_titles_rating_stockprice_SP500, color='r', s=20)\n",
    "plt.subplot(2,2,2)\n",
    "sns.scatterplot(x='release_year', y='allgenders_18age_avg_vote', data=df_titles_rating_stockprice_SP500, color='y', s=20)\n",
    "plt.subplot(2,2,3)\n",
    "sns.scatterplot(x='release_year', y='allgenders_30age_avg_vote', data=df_titles_rating_stockprice_SP500, color='g', s=20)\n",
    "plt.subplot(2,2,4)\n",
    "sns.scatterplot(x='release_year', y='allgenders_45age_avg_vote', data=df_titles_rating_stockprice_SP500, color='k', s=20)"
   ]
  },
  {
   "cell_type": "markdown",
   "id": "a23e3a31",
   "metadata": {},
   "source": [
    "빨강 --> 18세 미만 청소년층은 고르게 분포되며 1점, 10점 평점을 많이 준다 (취향이 뚜렷하다, 대체로 긍정적이지만 극단적임)\n",
    "\n",
    "노랑 --> 18-30세 청년층은 평점이 청소년에 비해서 약간 좁아지되 극단적 긍부정은 없고 대체로 5-8점에 분포하지만 10대에 비해 비판(2~4점)도 어느 정도 한다 (대체로 긍정적이고 비판도 함) \n",
    "\n",
    "초록 --> 30-45세 중년층은 평점이 대체로 4~8점 중간 쪽에 좁아져 분포되어 있다 (다수를 따르는 취향, 대체로 무난)\n",
    "\n",
    "검정 --> 45세 이상 장년층은 중년층과 비슷하지만 영화를 많이 보며 뻔하다고 느껴서인지 아래 쪽으로 다소 쏠려 있다 (냉철하다, 대체로 부정적)\n",
    "\n",
    "\n",
    "# 개봉연도 - 연령대별 평점 \n"
   ]
  },
  {
   "cell_type": "markdown",
   "id": "b437d02d",
   "metadata": {},
   "source": [
    "--> \n",
    "\n",
    "넷플릭스는 대체로 컨텐츠 수가 많고 복고 컨텐츠까지 풍부하게 추가한다\n",
    "\n",
    "디즈니플러스는 처음에 많은 수의 고품질 기존 컨텐츠를 등록했지만 신규 컨텐츠는 적다\n",
    "\n",
    "복고 컨텐츠 전략을 확인하기에는 디즈니+가 2019년부터여서 데이터가 너무 적다"
   ]
  },
  {
   "cell_type": "markdown",
   "id": "swiss-breathing",
   "metadata": {},
   "source": [
    "# Content Type on Netflix\n",
    "content_type = df['type'].value_counts().to_frame(name=\"count\")\n",
    "\n",
    "# donut chart\n",
    "pie = ctc.Pie('Content type on Netflix', # title\n",
    "              width='720px',height='720px')\n",
    "\n",
    "# set the chart options\n",
    "pie.set_options(labels=list(content_type.index), # country names as labels\n",
    "                inner_radius=0,                  # inner radius set to 0\n",
    "                colors=['#ee333c','#168ab5'])\n",
    "\n",
    "\n",
    "pie.add_series(list(content_type['count']))\n",
    "\n",
    "# display the charts\n",
    "pie.render_notebook()\n"
   ]
  },
  {
   "cell_type": "code",
   "execution_count": null,
   "id": "normal-advice",
   "metadata": {},
   "outputs": [],
   "source": [
    "# netflix 주가&거래량 데이터 불러오기\n"
   ]
  },
  {
   "cell_type": "code",
   "execution_count": null,
   "id": "complimentary-reasoning",
   "metadata": {},
   "outputs": [],
   "source": [
    "# dtype 맞춰 주고 데이터 합치기"
   ]
  },
  {
   "cell_type": "code",
   "execution_count": null,
   "id": "smoking-adapter",
   "metadata": {},
   "outputs": [],
   "source": [
    "\n",
    "fig, axe1 = plt.subplots(figsize = (20, 10)) # figsize 안에 넣어야 적용됨\n",
    "axe2 = axe1.twinx()\n",
    "\n",
    "c1 = sns.scatterplot(ax = axe1, data = df_titles_stockprice, x = 'Date', y = 'release_year', color = 'g', s=10)\n",
    "c2 = sns.lineplot(ax = axe2, data = df_titles_stockprice, x = 'Date', y = 'Adj Close', color = 'b')\n",
    "\n",
    "axe1.legend(['release year','Stock Price'])\n",
    "\n",
    "#plt.legend(bbox_to_anchor=(1.03, 1), loc=2) #legend 그래프 밖에 추가하기인데 안 먹힘\n",
    "\n",
    "axe1.set_ylabel('release year')\n",
    "axe2.set_ylabel('Stock Price')"
   ]
  },
  {
   "cell_type": "markdown",
   "id": "distant-penguin",
   "metadata": {},
   "source": [
    "--> 대체로 Movie에 따라감, 초반 빼고는 별 차이가 없음\n",
    "\n"
   ]
  },
  {
   "cell_type": "markdown",
   "id": "relevant-settle",
   "metadata": {},
   "source": [
    "--> 안 찍힘? 발매연도 대신 평점, 주제(description sentiment 분석)와의 관계도 봐야함 + 거래량 대신 실적과도 + 디즈니 등 다른 곳 영화들도 (복고 등) + 평 좋은 영화 감독/배우 몇명 집어서 주가.거래량.실적과 비교(흥행보증수표)\n",
    "\n",
    "S&P 500 등 평균그래프도\n",
    "\n",
    "실제 뉴스, 리포트와 비교(전략, 성공요인 맞는지) + 그래프 미화\n",
    "\n",
    "넷플릭스 : 양은 많은데 질이 떨어진다\n",
    "디즈니 : 질은 좋은데 양이 없다"
   ]
  },
  {
   "cell_type": "code",
   "execution_count": null,
   "id": "atlantic-alabama",
   "metadata": {},
   "outputs": [],
   "source": [
    "# 평점 데이터 합친 netflix_titles + netflix_imdb 불러오기\n"
   ]
  },
  {
   "cell_type": "markdown",
   "id": "authentic-anthropology",
   "metadata": {},
   "source": [
    "fig, axe2 = plt.subplots(figsize = (15, 10)) # figsize 안에 넣어야 적용됨, 숫자 바꿔주기\n",
    "axe3 = axe2.twinx() # 숫자 바꿔주기\n",
    "\n",
    "c2 = sns.lineplot(ax = axe2, data = df_titles_rating_stockprice_SP500, x = 'Date_x', y = 'Adj Close_x', color = 'b')\n",
    "c3 = sns.lineplot(ax = axe3, data = df_titles_rating_stockprice_SP500, x = 'Date_y', y = 'Adj Close_y', color = 'gray')\n",
    "\n",
    "axe2.legend(['Netflix 주가','S&P500 지수'])\n",
    "\n",
    "#plt.legend(bbox_to_anchor=(1.03, 1), loc=2) #legend 그래프 밖에 추가하기인데 안 먹힘\n",
    "\n",
    "axe2.set_ylabel('Netflix 주가')\n",
    "axe3.set_ylabel('S&P500 지수')\n"
   ]
  },
  {
   "cell_type": "code",
   "execution_count": null,
   "id": "stylish-release",
   "metadata": {},
   "outputs": [],
   "source": [
    "--> 2018초, 2019초, 2020초에 Netflix가 S&P500 대비 초과상승\n",
    "\n",
    "19년 말에 S&P500은 오르는데 netflix 주가는 떨어지는 교차 부분 존재 : 디즈니+ 등 경쟁자 등장 \n",
    "\n",
    "\n",
    "# 개봉연도 - 주가(S&P500포함)"
   ]
  },
  {
   "cell_type": "markdown",
   "id": "separated-tucson",
   "metadata": {},
   "source": [
    "fig, axe1 = plt.subplots(figsize = (15, 10)) # figsize 안에 넣어야 적용됨\n",
    "axe2 = axe1.twinx() # scatterplot axe3을 적어줘야 함\n",
    "axe3 = axe1.twinx()\n",
    "\n",
    "c1 = sns.scatterplot(ax = axe1, data = df_titles_rating_stockprice_SP500, x = 'Date_x', y = 'release_year', color = 'r', s=10)\n",
    "c2 = sns.lineplot(ax = axe2, data = df_titles_rating_stockprice_SP500, x = 'Date_x', y = 'Adj Close_x', color = 'b')\n",
    "c3 = sns.lineplot(ax = axe3, data = df_titles_rating_stockprice_SP500, x = 'Date_y', y = 'Adj Close_y', color = 'gray')\n",
    "\n",
    "\n",
    "axe1.legend(['개봉연도', 'Netflix 주가','S&P500 지수'])\n",
    "\n",
    "#plt.legend(bbox_to_anchor=(1.03, 1), loc=2) #legend 그래프 밖에 추가하기인데 안 먹힘\n",
    "\n",
    "axe1.set_ylabel('평점')\n",
    "axe2.set_ylabel('Netflix 주가')\n",
    "axe3.set_ylabel('S&P500 지수')"
   ]
  },
  {
   "cell_type": "code",
   "execution_count": null,
   "id": "invisible-moscow",
   "metadata": {},
   "outputs": [],
   "source": [
    "# 평점 - 주가 관계"
   ]
  },
  {
   "cell_type": "markdown",
   "id": "short-rally",
   "metadata": {},
   "source": [
    "fig, axe1 = plt.subplots(figsize = (15, 10)) # figsize 안에 넣어야 적용됨\n",
    "axe2 = axe1.twinx() # scatterplot axe3을 적어줘야 함\n",
    "axe3 = axe1.twinx()\n",
    "\n",
    "c1 = sns.scatterplot(ax = axe1, data = df_titles_rating_stockprice, x = 'Date', y = 'weighted_average_vote', color = 'g', s=5)\n",
    "c2 = sns.lineplot(ax = axe2, data = df_titles_rating_stockprice_SP500, x = 'Date_x', y = 'Adj Close_x', color = 'b')\n",
    "c3 = sns.lineplot(ax = axe3, data = df_titles_rating_stockprice_SP500, x = 'Date_y', y = 'Adj Close_y', color = 'gray')\n",
    "\n",
    "\n",
    "axe1.legend(['평점', 'Netflix 주가','S&P500 지수'])\n",
    "\n",
    "#plt.legend(bbox_to_anchor=(1.03, 1), loc=2) #legend 그래프 밖에 추가하기인데 안 먹힘\n",
    "\n",
    "axe1.set_ylabel('평점')\n",
    "axe2.set_ylabel('Netflix 주가')\n",
    "axe3.set_ylabel('S&P500 지수')\n",
    "\n"
   ]
  },
  {
   "cell_type": "markdown",
   "id": "alleged-interpretation",
   "metadata": {},
   "source": [
    "--> 전체 평점 : 위, 아래 적고 중간 값이 많다 \n",
    "\n",
    "1. 4~8점 사이 중간대 점수를 주는 사람\n",
    "3. 나머지 사람\n",
    "순으로 많다\n",
    "\n",
    "19년 중반 교차 부분에서는 부정적 평가가 다소 늘어난다\n",
    "\n",
    "상관관계 찾기 어렵다... 주가와 가장 상관관계 있는 성별/연령대별 평점은?\n",
    "\n",
    "\n",
    "# 연령대별 평점 특징\n"
   ]
  },
  {
   "cell_type": "code",
   "execution_count": null,
   "id": "developing-spirit",
   "metadata": {},
   "outputs": [],
   "source": [
    "--> 청소년층은 그나마 최신 컨텐츠에 10점을 주기도 하지만, 모든 층에서 복고 컨텐츠에 중~중상의 평점을 부여한다. 다만 특히 부정적 평가는 청,중,장년층에서 최신 컨텐츠에 쏠려 있으므로 오히려 복고 컨텐츠가 무난 혹은 좋은 평점을 받는다고 볼 수 있다. 최신 컨텐츠에 비해 검증되고 엄선된 명작 컨텐츠만 추가되어서 그런지는 몰라도 어쨌든 \n",
    "\n",
    "복고 컨텐츠는 통한다!\n",
    "\n",
    "\n",
    "\n",
    "\n",
    "# 18세 미만 청소년층 평점 - 주가"
   ]
  },
  {
   "cell_type": "markdown",
   "id": "international-trademark",
   "metadata": {},
   "source": [
    "fig, axe1 = plt.subplots(figsize = (15, 10)) # figsize 안에 넣어야 적용됨\n",
    "axe2 = axe1.twinx() # scatterplot axe3을 적어줘야 함\n",
    "axe3 = axe1.twinx()\n",
    "\n",
    "c1 = sns.scatterplot(ax = axe1, data = df_titles_rating_stockprice_SP500, x = 'Date_x', y = 'allgenders_0age_avg_vote', color = 'r', s=5)\n",
    "c2 = sns.lineplot(ax = axe2, data = df_titles_rating_stockprice_SP500, x = 'Date_x', y = 'Adj Close_x', color = 'b')\n",
    "c3 = sns.lineplot(ax = axe3, data = df_titles_rating_stockprice_SP500, x = 'Date_y', y = 'Adj Close_y', color = 'gray')\n",
    "\n",
    "\n",
    "axe1.legend(['청소년층 평점', 'Netflix 주가','S&P500 지수'])\n",
    "\n",
    "#plt.legend(bbox_to_anchor=(1.03, 1), loc=2) #legend 그래프 밖에 추가하기인데 안 먹힘\n",
    "\n",
    "axe1.set_ylabel('청소년층 평점')\n",
    "axe2.set_ylabel('Netflix 주가')\n",
    "axe3.set_ylabel('S&P500 지수')\n"
   ]
  },
  {
   "cell_type": "code",
   "execution_count": null,
   "id": "boxed-sector",
   "metadata": {},
   "outputs": [],
   "source": [
    "--> 18세 미만 평점 : \n",
    "1. 5~8점 사이 괜찮은 점수를 주는 사람\n",
    "2. 1점, 10점 극단적 점수를 주는 사람\n",
    "3. 8~10점 사이 후한 점수를 주는 사람\n",
    "4. 1~5점 사이 박한 점수를 주는 사람\n",
    "순으로 많다\n",
    "\n",
    "--> 10점 평점 작품의 등장, 밀도가 높은 구간에 주가 상승, 밀도가 낮은 구간에서 주가 하락이 보여진다 (트렌드에 민감한 세대)\n",
    "\n",
    "\n",
    "\n",
    "# 18-30세 청년층 평점 - 주가"
   ]
  },
  {
   "cell_type": "markdown",
   "id": "piano-mounting",
   "metadata": {},
   "source": [
    "fig, axe1 = plt.subplots(figsize = (15, 10)) # figsize 안에 넣어야 적용됨\n",
    "axe2 = axe1.twinx() # scatterplot axe3을 적어줘야 함\n",
    "axe3 = axe1.twinx()\n",
    "\n",
    "c1 = sns.scatterplot(ax = axe1, data = df_titles_rating_stockprice_SP500, x = 'Date_x', y = 'allgenders_18age_avg_vote', color = 'y', s=5)\n",
    "c2 = sns.lineplot(ax = axe2, data = df_titles_rating_stockprice_SP500, x = 'Date_x', y = 'Adj Close_x', color = 'b')\n",
    "c3 = sns.lineplot(ax = axe3, data = df_titles_rating_stockprice_SP500, x = 'Date_y', y = 'Adj Close_y', color = 'gray')\n",
    "\n",
    "\n",
    "axe1.legend(['청년층 평점','Netflix 주가','S&P500 지수'])\n",
    "\n",
    "#plt.legend(bbox_to_anchor=(1.03, 1), loc=2) #legend 그래프 밖에 추가하기인데 안 먹힘\n",
    "\n",
    "axe1.set_ylabel('청년층 평점')\n",
    "axe2.set_ylabel('Netflix 주가')\n",
    "axe3.set_ylabel('S&P500 지수')\n"
   ]
  },
  {
   "cell_type": "code",
   "execution_count": null,
   "id": "opponent-artwork",
   "metadata": {},
   "outputs": [],
   "source": [
    "--> 대체로 부정적(2~4점) 평가가 많은 시기에 주가 조정/횡보기, 부정적 평가가 적은 시기가 주가 상승기와 겹친다\n",
    "\n",
    "\n",
    "# 30-45세 중년층 평점 - 주가"
   ]
  },
  {
   "cell_type": "markdown",
   "id": "decent-grant",
   "metadata": {},
   "source": [
    "fig, axe1 = plt.subplots(figsize = (15, 10)) # figsize 안에 넣어야 적용됨\n",
    "axe2 = axe1.twinx() # scatterplot axe3을 적어줘야 함\n",
    "axe3 = axe1.twinx()\n",
    "\n",
    "c1 = sns.scatterplot(ax = axe1, data = df_titles_rating_stockprice_SP500, x = 'Date_x', y = 'allgenders_30age_avg_vote', color = 'g', s=5)\n",
    "c2 = sns.lineplot(ax = axe2, data = df_titles_rating_stockprice_SP500, x = 'Date_x', y = 'Adj Close_x', color = 'b')\n",
    "c3 = sns.lineplot(ax = axe3, data = df_titles_rating_stockprice_SP500, x = 'Date_y', y = 'Adj Close_y', color = 'gray')\n",
    "\n",
    "\n",
    "axe1.legend(['Netflix 주가','S&P500 지수', '중년층 평점'])\n",
    "\n",
    "#plt.legend(bbox_to_anchor=(1.03, 1), loc=2) #legend 그래프 밖에 추가하기인데 안 먹힘\n",
    "\n",
    "axe1.set_ylabel('중년층 평점')\n",
    "axe2.set_ylabel('Netflix 주가')\n",
    "axe3.set_ylabel('S&P500 지수')"
   ]
  },
  {
   "cell_type": "code",
   "execution_count": null,
   "id": "naval-reservation",
   "metadata": {},
   "outputs": [],
   "source": [
    "--> 관련성 찾기 어려워짐 (트렌드보다는 소신껏 평점을 매긴다)\n",
    "\n",
    "\n",
    "# 45세 이상 장년층 평점 - 주가 "
   ]
  },
  {
   "cell_type": "markdown",
   "id": "black-morris",
   "metadata": {},
   "source": [
    "fig, axe1 = plt.subplots(figsize = (15, 10)) # figsize 안에 넣어야 적용됨\n",
    "axe2 = axe1.twinx() # scatterplot axe3을 적어줘야 함\n",
    "axe3 = axe1.twinx()\n",
    "\n",
    "c1 = sns.scatterplot(ax = axe1, data = df_titles_rating_stockprice_SP500, x = 'Date_x', y = 'allgenders_45age_avg_vote', color = 'k', s=5)\n",
    "c2 = sns.lineplot(ax = axe2, data = df_titles_rating_stockprice_SP500, x = 'Date_x', y = 'Adj Close_x', color = 'b')\n",
    "c3 = sns.lineplot(ax = axe3, data = df_titles_rating_stockprice_SP500, x = 'Date_y', y = 'Adj Close_y', color = 'gray')\n",
    "\n",
    "\n",
    "axe1.legend([ '장년층 평점', 'Netflix 주가','S&P500 지수'])\n",
    "\n",
    "#plt.legend(bbox_to_anchor=(1.03, 1), loc=2) #legend 그래프 밖에 추가하기인데 안 먹힘\n",
    "\n",
    "axe1.set_ylabel('장년층 평점')\n",
    "axe2.set_ylabel('Netflix 주가')\n",
    "axe3.set_ylabel('S&P500 지수')"
   ]
  },
  {
   "cell_type": "markdown",
   "id": "deluxe-copying",
   "metadata": {},
   "source": [
    "--> 관련성 거의 없어짐 (넷플릭스가 잘 나갈 때도 못 나갈 때도 냉철하다, 평점 분포가 시기에 따라 별 차이가 없다, 어른들은 다 비슷하다)"
   ]
  },
  {
   "cell_type": "code",
   "execution_count": null,
   "id": "revolutionary-parliament",
   "metadata": {
    "scrolled": true
   },
   "outputs": [],
   "source": [
    "# 디즈니 플러스 vs 넷플릭스 - 복고 컨텐츠 전략 비교"
   ]
  },
  {
   "cell_type": "code",
   "execution_count": null,
   "id": "protective-promotion",
   "metadata": {},
   "outputs": [],
   "source": [
    "df5['date_added'] = pd.to_datetime(df5['date_added'])\n",
    "df5.head()"
   ]
  },
  {
   "cell_type": "code",
   "execution_count": null,
   "id": "premium-juvenile",
   "metadata": {},
   "outputs": [],
   "source": [
    "df.head()"
   ]
  },
  {
   "cell_type": "code",
   "execution_count": null,
   "id": "prompt-samoa",
   "metadata": {},
   "outputs": [],
   "source": [
    "prac = df.copy()\n",
    "prac.sort_values(by='date_added', ascending=True, inplace=True)\n",
    "prac.reset_index(drop=True, inplace=True) #drop은 새로운 index컬럼 안 생기게, inplace는 원본 수정o\n",
    "prac[prac['date_added'] > '2019-10-01']"
   ]
  },
  {
   "cell_type": "code",
   "execution_count": null,
   "id": "civilian-daily",
   "metadata": {},
   "outputs": [],
   "source": [
    "prac = prac.iloc[4819:] #자르기\n",
    "prac.reset_index(drop=True, inplace=True)\n",
    "prac"
   ]
  },
  {
   "cell_type": "code",
   "execution_count": null,
   "id": "instrumental-richardson",
   "metadata": {},
   "outputs": [],
   "source": [
    "# 컨텐츠 추가일 - 컨텐츠 개봉연도 관계\n",
    "\n",
    "plt.figure(figsize = (20, 15))\n",
    "\n",
    "plt.subplot(3,1,1)\n",
    "sns.scatterplot(x='date_added', y='release_year', data=df, s=15)\n",
    "# 넷플릭스 2008~2021 \n",
    "\n",
    "plt.subplot(3,1,2)\n",
    "sns.scatterplot(x='date_added', y='release_year', data=df5, s=15)\n",
    "# 디즈니플러스 2019.10~2021\n",
    "\n",
    "plt.subplot(3,1,3)\n",
    "sns.scatterplot(x='date_added', y='release_year', data=prac, s=15)\n",
    "plt.subplot(3,1,3)\n",
    "sns.scatterplot(x='date_added', y='release_year', data=df5, s=15)\n",
    "# 넷플릭스+디즈니플러스 2019.10~2021"
   ]
  }
 ],
 "metadata": {
  "kernelspec": {
   "display_name": "Python 3 (ipykernel)",
   "language": "python",
   "name": "python3"
  },
  "language_info": {
   "codemirror_mode": {
    "name": "ipython",
    "version": 3
   },
   "file_extension": ".py",
   "mimetype": "text/x-python",
   "name": "python",
   "nbconvert_exporter": "python",
   "pygments_lexer": "ipython3",
   "version": "3.8.8"
  }
 },
 "nbformat": 4,
 "nbformat_minor": 5
}